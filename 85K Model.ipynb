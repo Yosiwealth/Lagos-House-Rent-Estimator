{
 "cells": [
  {
   "cell_type": "code",
   "execution_count": 148,
   "metadata": {
    "ExecuteTime": {
     "end_time": "2020-05-01T18:03:52.227961Z",
     "start_time": "2020-05-01T18:03:52.213967Z"
    }
   },
   "outputs": [],
   "source": [
    "from sklearn.ensemble import RandomForestClassifier\n",
    "from sklearn.ensemble import RandomForestRegressor\n",
    "from sklearn import preprocessing\n",
    "import sklearn.model_selection as ms\n",
    "\n",
    "import sklearn.metrics as sklm\n",
    "import matplotlib.pyplot as plt\n",
    "import pandas as pd\n",
    "import numpy as np\n",
    "import warnings\n",
    "warnings.filterwarnings('ignore')\n",
    "import seaborn as sns\n",
    "%matplotlib inline"
   ]
  },
  {
   "cell_type": "code",
   "execution_count": 149,
   "metadata": {
    "ExecuteTime": {
     "end_time": "2020-05-01T18:03:52.381892Z",
     "start_time": "2020-05-01T18:03:52.231957Z"
    }
   },
   "outputs": [],
   "source": [
    "#import datasets\n",
    "\n",
    "train = pd.read_csv(\"dataX.csv\")"
   ]
  },
  {
   "cell_type": "code",
   "execution_count": 150,
   "metadata": {
    "ExecuteTime": {
     "end_time": "2020-05-01T18:03:52.481814Z",
     "start_time": "2020-05-01T18:03:52.384870Z"
    },
    "scrolled": true
   },
   "outputs": [
    {
     "data": {
      "text/html": [
       "<div>\n",
       "<style scoped>\n",
       "    .dataframe tbody tr th:only-of-type {\n",
       "        vertical-align: middle;\n",
       "    }\n",
       "\n",
       "    .dataframe tbody tr th {\n",
       "        vertical-align: top;\n",
       "    }\n",
       "\n",
       "    .dataframe thead th {\n",
       "        text-align: right;\n",
       "    }\n",
       "</style>\n",
       "<table border=\"1\" class=\"dataframe\">\n",
       "  <thead>\n",
       "    <tr style=\"text-align: right;\">\n",
       "      <th></th>\n",
       "      <th>bedrooms</th>\n",
       "      <th>bathrooms</th>\n",
       "      <th>toilets</th>\n",
       "      <th>description</th>\n",
       "      <th>location</th>\n",
       "      <th>spec_location</th>\n",
       "      <th>price</th>\n",
       "    </tr>\n",
       "  </thead>\n",
       "  <tbody>\n",
       "    <tr>\n",
       "      <td>0</td>\n",
       "      <td>4</td>\n",
       "      <td>4</td>\n",
       "      <td>5</td>\n",
       "      <td>4 Bedroom terrace duplex for Lease. 3 years re...</td>\n",
       "      <td>ikeja</td>\n",
       "      <td>off isaac john street ikeja gra ikeja lagos</td>\n",
       "      <td>5000000</td>\n",
       "    </tr>\n",
       "    <tr>\n",
       "      <td>1</td>\n",
       "      <td>3</td>\n",
       "      <td>3</td>\n",
       "      <td>4</td>\n",
       "      <td>This property is located within the heart of o...</td>\n",
       "      <td>ikeja</td>\n",
       "      <td>bamishele estate off allen opebi ikeja lagos</td>\n",
       "      <td>4000000</td>\n",
       "    </tr>\n",
       "    <tr>\n",
       "      <td>2</td>\n",
       "      <td>3</td>\n",
       "      <td>3</td>\n",
       "      <td>4</td>\n",
       "      <td>3 bedroom Shared Apartment Flat / Apartment fo...</td>\n",
       "      <td>ikeja</td>\n",
       "      <td>off allen avenue allen avenue ikeja lagos</td>\n",
       "      <td>4000000</td>\n",
       "    </tr>\n",
       "    <tr>\n",
       "      <td>3</td>\n",
       "      <td>5</td>\n",
       "      <td>6</td>\n",
       "      <td>6</td>\n",
       "      <td>A newly renovated 5bedroomfully detached duple...</td>\n",
       "      <td>ikeja</td>\n",
       "      <td>off ogunlani estate, allen, ikeja. allen avenu...</td>\n",
       "      <td>2800000</td>\n",
       "    </tr>\n",
       "    <tr>\n",
       "      <td>4</td>\n",
       "      <td>1</td>\n",
       "      <td>1</td>\n",
       "      <td>1</td>\n",
       "      <td>clean pop all round tiles big compound ... Old...</td>\n",
       "      <td>ikeja</td>\n",
       "      <td>ikeja gra ikeja lagos</td>\n",
       "      <td>1000000</td>\n",
       "    </tr>\n",
       "  </tbody>\n",
       "</table>\n",
       "</div>"
      ],
      "text/plain": [
       "   bedrooms  bathrooms  toilets  \\\n",
       "0         4          4        5   \n",
       "1         3          3        4   \n",
       "2         3          3        4   \n",
       "3         5          6        6   \n",
       "4         1          1        1   \n",
       "\n",
       "                                         description location  \\\n",
       "0  4 Bedroom terrace duplex for Lease. 3 years re...    ikeja   \n",
       "1  This property is located within the heart of o...    ikeja   \n",
       "2  3 bedroom Shared Apartment Flat / Apartment fo...    ikeja   \n",
       "3  A newly renovated 5bedroomfully detached duple...    ikeja   \n",
       "4  clean pop all round tiles big compound ... Old...    ikeja   \n",
       "\n",
       "                                       spec_location    price  \n",
       "0        off isaac john street ikeja gra ikeja lagos  5000000  \n",
       "1       bamishele estate off allen opebi ikeja lagos  4000000  \n",
       "2          off allen avenue allen avenue ikeja lagos  4000000  \n",
       "3  off ogunlani estate, allen, ikeja. allen avenu...  2800000  \n",
       "4                              ikeja gra ikeja lagos  1000000  "
      ]
     },
     "execution_count": 150,
     "metadata": {},
     "output_type": "execute_result"
    }
   ],
   "source": [
    "#train = train1.merge(train2,how=\"left\",on='row_id')\n",
    "train.head()"
   ]
  },
  {
   "cell_type": "code",
   "execution_count": 151,
   "metadata": {
    "ExecuteTime": {
     "end_time": "2020-05-01T18:03:52.611760Z",
     "start_time": "2020-05-01T18:03:52.486812Z"
    }
   },
   "outputs": [
    {
     "data": {
      "text/plain": [
       "Index(['bedrooms', 'bathrooms', 'toilets', 'description', 'location',\n",
       "       'spec_location', 'price'],\n",
       "      dtype='object')"
      ]
     },
     "execution_count": 151,
     "metadata": {},
     "output_type": "execute_result"
    }
   ],
   "source": [
    "train.columns"
   ]
  },
  {
   "cell_type": "code",
   "execution_count": 152,
   "metadata": {
    "ExecuteTime": {
     "end_time": "2020-05-01T18:03:52.737681Z",
     "start_time": "2020-05-01T18:03:52.617738Z"
    }
   },
   "outputs": [],
   "source": [
    "#Change coluumns names\n",
    "# train.columns = ['spec_location','bedrooms','bathrooms','toilets','description','price','location']"
   ]
  },
  {
   "cell_type": "code",
   "execution_count": 153,
   "metadata": {
    "ExecuteTime": {
     "end_time": "2020-05-01T18:03:52.871592Z",
     "start_time": "2020-05-01T18:03:52.743665Z"
    }
   },
   "outputs": [],
   "source": [
    "#Subset the data to capture only relevant columns\n",
    "train = train[['bedrooms','bathrooms','toilets','description',\n",
    "               'location','spec_location','price']]"
   ]
  },
  {
   "cell_type": "code",
   "execution_count": 154,
   "metadata": {
    "ExecuteTime": {
     "end_time": "2020-05-01T18:03:53.049493Z",
     "start_time": "2020-05-01T18:03:52.876591Z"
    }
   },
   "outputs": [
    {
     "data": {
      "text/html": [
       "<div>\n",
       "<style scoped>\n",
       "    .dataframe tbody tr th:only-of-type {\n",
       "        vertical-align: middle;\n",
       "    }\n",
       "\n",
       "    .dataframe tbody tr th {\n",
       "        vertical-align: top;\n",
       "    }\n",
       "\n",
       "    .dataframe thead th {\n",
       "        text-align: right;\n",
       "    }\n",
       "</style>\n",
       "<table border=\"1\" class=\"dataframe\">\n",
       "  <thead>\n",
       "    <tr style=\"text-align: right;\">\n",
       "      <th></th>\n",
       "      <th>bedrooms</th>\n",
       "      <th>bathrooms</th>\n",
       "      <th>toilets</th>\n",
       "      <th>description</th>\n",
       "      <th>location</th>\n",
       "      <th>spec_location</th>\n",
       "      <th>price</th>\n",
       "    </tr>\n",
       "  </thead>\n",
       "  <tbody>\n",
       "    <tr>\n",
       "      <td>0</td>\n",
       "      <td>4</td>\n",
       "      <td>4</td>\n",
       "      <td>5</td>\n",
       "      <td>4 Bedroom terrace duplex for Lease. 3 years re...</td>\n",
       "      <td>ikeja</td>\n",
       "      <td>off isaac john street ikeja gra ikeja lagos</td>\n",
       "      <td>5000000</td>\n",
       "    </tr>\n",
       "    <tr>\n",
       "      <td>1</td>\n",
       "      <td>3</td>\n",
       "      <td>3</td>\n",
       "      <td>4</td>\n",
       "      <td>This property is located within the heart of o...</td>\n",
       "      <td>ikeja</td>\n",
       "      <td>bamishele estate off allen opebi ikeja lagos</td>\n",
       "      <td>4000000</td>\n",
       "    </tr>\n",
       "    <tr>\n",
       "      <td>2</td>\n",
       "      <td>3</td>\n",
       "      <td>3</td>\n",
       "      <td>4</td>\n",
       "      <td>3 bedroom Shared Apartment Flat / Apartment fo...</td>\n",
       "      <td>ikeja</td>\n",
       "      <td>off allen avenue allen avenue ikeja lagos</td>\n",
       "      <td>4000000</td>\n",
       "    </tr>\n",
       "    <tr>\n",
       "      <td>3</td>\n",
       "      <td>5</td>\n",
       "      <td>6</td>\n",
       "      <td>6</td>\n",
       "      <td>A newly renovated 5bedroomfully detached duple...</td>\n",
       "      <td>ikeja</td>\n",
       "      <td>off ogunlani estate, allen, ikeja. allen avenu...</td>\n",
       "      <td>2800000</td>\n",
       "    </tr>\n",
       "    <tr>\n",
       "      <td>4</td>\n",
       "      <td>1</td>\n",
       "      <td>1</td>\n",
       "      <td>1</td>\n",
       "      <td>clean pop all round tiles big compound ... Old...</td>\n",
       "      <td>ikeja</td>\n",
       "      <td>ikeja gra ikeja lagos</td>\n",
       "      <td>1000000</td>\n",
       "    </tr>\n",
       "  </tbody>\n",
       "</table>\n",
       "</div>"
      ],
      "text/plain": [
       "   bedrooms  bathrooms  toilets  \\\n",
       "0         4          4        5   \n",
       "1         3          3        4   \n",
       "2         3          3        4   \n",
       "3         5          6        6   \n",
       "4         1          1        1   \n",
       "\n",
       "                                         description location  \\\n",
       "0  4 Bedroom terrace duplex for Lease. 3 years re...    ikeja   \n",
       "1  This property is located within the heart of o...    ikeja   \n",
       "2  3 bedroom Shared Apartment Flat / Apartment fo...    ikeja   \n",
       "3  A newly renovated 5bedroomfully detached duple...    ikeja   \n",
       "4  clean pop all round tiles big compound ... Old...    ikeja   \n",
       "\n",
       "                                       spec_location    price  \n",
       "0        off isaac john street ikeja gra ikeja lagos  5000000  \n",
       "1       bamishele estate off allen opebi ikeja lagos  4000000  \n",
       "2          off allen avenue allen avenue ikeja lagos  4000000  \n",
       "3  off ogunlani estate, allen, ikeja. allen avenu...  2800000  \n",
       "4                              ikeja gra ikeja lagos  1000000  "
      ]
     },
     "execution_count": 154,
     "metadata": {},
     "output_type": "execute_result"
    }
   ],
   "source": [
    "#Inspect dataframe\n",
    "train.head()"
   ]
  },
  {
   "cell_type": "code",
   "execution_count": 155,
   "metadata": {
    "ExecuteTime": {
     "end_time": "2020-05-01T18:03:53.193409Z",
     "start_time": "2020-05-01T18:03:53.055486Z"
    },
    "scrolled": false
   },
   "outputs": [
    {
     "data": {
      "text/plain": [
       "bedrooms         0\n",
       "bathrooms        0\n",
       "toilets          0\n",
       "description      0\n",
       "location         0\n",
       "spec_location    0\n",
       "price            0\n",
       "dtype: int64"
      ]
     },
     "execution_count": 155,
     "metadata": {},
     "output_type": "execute_result"
    }
   ],
   "source": [
    "#check for null values\n",
    "train.isna().sum()"
   ]
  },
  {
   "cell_type": "code",
   "execution_count": 156,
   "metadata": {
    "ExecuteTime": {
     "end_time": "2020-05-01T18:03:53.369307Z",
     "start_time": "2020-05-01T18:03:53.199407Z"
    }
   },
   "outputs": [
    {
     "data": {
      "text/plain": [
       "bedrooms          int64\n",
       "bathrooms         int64\n",
       "toilets           int64\n",
       "description      object\n",
       "location         object\n",
       "spec_location    object\n",
       "price             int64\n",
       "dtype: object"
      ]
     },
     "execution_count": 156,
     "metadata": {},
     "output_type": "execute_result"
    }
   ],
   "source": [
    "train.dtypes"
   ]
  },
  {
   "cell_type": "code",
   "execution_count": 157,
   "metadata": {
    "ExecuteTime": {
     "end_time": "2020-05-01T18:03:53.550614Z",
     "start_time": "2020-05-01T18:03:53.375305Z"
    }
   },
   "outputs": [],
   "source": [
    "# convert price and features to numeric from string\n",
    "train2 = train.copy()\n",
    "train2['price'] = pd.to_numeric(train2['price'], errors='coerce')\n",
    "train2['bedrooms'] = pd.to_numeric(train2['bedrooms'], errors='coerce')\n",
    "train2['bathrooms'] = pd.to_numeric(train2['bathrooms'], errors='coerce')\n",
    "train2['toilets'] = pd.to_numeric(train2['toilets'], errors='coerce')"
   ]
  },
  {
   "cell_type": "code",
   "execution_count": 158,
   "metadata": {
    "ExecuteTime": {
     "end_time": "2020-05-01T18:03:53.688797Z",
     "start_time": "2020-05-01T18:03:53.556547Z"
    }
   },
   "outputs": [],
   "source": [
    "#Fill NAs after conversion\n",
    "train2['price']=train2['price'].fillna(0)\n",
    "train2['bedrooms']=train2['bedrooms'].fillna(0)\n",
    "train2['bathrooms']=train2['bathrooms'].fillna(0)\n",
    "train2['toilets']=train2['toilets'].fillna(0)"
   ]
  },
  {
   "cell_type": "code",
   "execution_count": 159,
   "metadata": {
    "ExecuteTime": {
     "end_time": "2020-05-01T18:03:53.832299Z",
     "start_time": "2020-05-01T18:03:53.692796Z"
    }
   },
   "outputs": [
    {
     "data": {
      "text/plain": [
       "(3269, 7)"
      ]
     },
     "execution_count": 159,
     "metadata": {},
     "output_type": "execute_result"
    }
   ],
   "source": [
    "train.shape"
   ]
  },
  {
   "cell_type": "code",
   "execution_count": 160,
   "metadata": {
    "ExecuteTime": {
     "end_time": "2020-05-01T18:03:53.980210Z",
     "start_time": "2020-05-01T18:03:53.839291Z"
    }
   },
   "outputs": [],
   "source": [
    "#Subset data to ensure only data with price >0 is used\n",
    "train2 = train2[train2['price']!=0]\n",
    "train2 = train2[(train2['bedrooms']!=0) | (train2['bathrooms'] !=0) | (train2['toilets']!=0)]"
   ]
  },
  {
   "cell_type": "code",
   "execution_count": 161,
   "metadata": {
    "ExecuteTime": {
     "end_time": "2020-05-01T18:03:54.111135Z",
     "start_time": "2020-05-01T18:03:53.984210Z"
    }
   },
   "outputs": [
    {
     "data": {
      "text/plain": [
       "(3269, 7)"
      ]
     },
     "execution_count": 161,
     "metadata": {},
     "output_type": "execute_result"
    }
   ],
   "source": [
    "#Inspect new shape\n",
    "train2.shape"
   ]
  },
  {
   "cell_type": "code",
   "execution_count": 162,
   "metadata": {
    "ExecuteTime": {
     "end_time": "2020-05-01T18:03:54.608852Z",
     "start_time": "2020-05-01T18:03:54.116133Z"
    }
   },
   "outputs": [],
   "source": [
    "#create new features\n",
    "train2['estate_flag'] = train2['description'].apply(lambda x: len([c for c in str(x).lower().split() if \"estate\" in c]))\n",
    "\n",
    "train2['terrace_flag'] = train2['description'].apply(lambda x: len([c for c in str(x).lower().split() if \"terraced\" \n",
    "                                                                  in c or \"terrace\" in c or \"detached\" in c\n",
    "                                                                 or \"duplex\" in c]))\n",
    "\n",
    "train2['new_flag'] = train2['description'].apply(lambda x: len([c for c in str(x).lower().split()\n",
    "                                                              if \"new\" in c or \"luxur\" in c \n",
    "                                                              or \"executive\" in c]))\n",
    "\n",
    "train2['serviced_flag'] = train2['description'].apply(lambda x: len([c for c in str(x).lower().split() if \"service\" in c]))\n",
    "\n",
    "train2['security_flag'] = train2['description'].apply(lambda x: len([c for c in str(x).lower().split() if \"security\" in c]))"
   ]
  },
  {
   "cell_type": "code",
   "execution_count": 163,
   "metadata": {
    "ExecuteTime": {
     "end_time": "2020-05-01T18:03:54.659842Z",
     "start_time": "2020-05-01T18:03:54.615848Z"
    }
   },
   "outputs": [],
   "source": [
    "# Convert new features to 1 and 0 by allocating values greater than 1 to 1\n",
    "# The features were created by using a count(len) this means some rows may have a value greater than 1\n",
    "train2['estate_flag'][train2['estate_flag'] >= 1] = 1\n",
    "train2['terrace_flag'][train2['terrace_flag'] >= 1] = 1\n",
    "train2['serviced_flag'][train2['serviced_flag'] >= 1] = 1\n",
    "train2['new_flag'][train2['new_flag'] >= 1] = 1\n",
    "train2['security_flag'][train2['security_flag'] >= 1] = 1"
   ]
  },
  {
   "cell_type": "code",
   "execution_count": 164,
   "metadata": {
    "ExecuteTime": {
     "end_time": "2020-05-01T18:03:55.192692Z",
     "start_time": "2020-05-01T18:03:54.664820Z"
    }
   },
   "outputs": [
    {
     "data": {
      "text/plain": [
       "<matplotlib.axes._subplots.AxesSubplot at 0x211f413c630>"
      ]
     },
     "execution_count": 164,
     "metadata": {},
     "output_type": "execute_result"
    },
    {
     "data": {
      "image/png": "[encoded data removed]",
      "text/plain": [
       "<Figure size 432x288 with 1 Axes>"
      ]
     },
     "metadata": {
      "needs_background": "light"
     },
     "output_type": "display_data"
    }
   ],
   "source": [
    "#Examine distribution of all houses to identify outliers\n",
    "train2['price'].plot(\"hist\")"
   ]
  },
  {
   "cell_type": "code",
   "execution_count": 165,
   "metadata": {
    "ExecuteTime": {
     "end_time": "2020-05-01T18:03:55.205684Z",
     "start_time": "2020-05-01T18:03:55.195691Z"
    }
   },
   "outputs": [
    {
     "data": {
      "text/plain": [
       "5000000.0"
      ]
     },
     "execution_count": 165,
     "metadata": {},
     "output_type": "execute_result"
    }
   ],
   "source": [
    "#Define a threshold based on percentile to avoid hardcoding\n",
    "threshold = np.percentile(train2['price'],90)\n",
    "threshold"
   ]
  },
  {
   "cell_type": "code",
   "execution_count": 166,
   "metadata": {
    "ExecuteTime": {
     "end_time": "2020-05-01T18:03:55.388084Z",
     "start_time": "2020-05-01T18:03:55.222674Z"
    },
    "scrolled": true
   },
   "outputs": [
    {
     "data": {
      "text/html": [
       "<div>\n",
       "<style scoped>\n",
       "    .dataframe tbody tr th:only-of-type {\n",
       "        vertical-align: middle;\n",
       "    }\n",
       "\n",
       "    .dataframe tbody tr th {\n",
       "        vertical-align: top;\n",
       "    }\n",
       "\n",
       "    .dataframe thead th {\n",
       "        text-align: right;\n",
       "    }\n",
       "</style>\n",
       "<table border=\"1\" class=\"dataframe\">\n",
       "  <thead>\n",
       "    <tr style=\"text-align: right;\">\n",
       "      <th></th>\n",
       "      <th>bedrooms</th>\n",
       "      <th>bathrooms</th>\n",
       "      <th>toilets</th>\n",
       "      <th>description</th>\n",
       "      <th>location</th>\n",
       "      <th>spec_location</th>\n",
       "      <th>price</th>\n",
       "      <th>estate_flag</th>\n",
       "      <th>terrace_flag</th>\n",
       "      <th>new_flag</th>\n",
       "      <th>serviced_flag</th>\n",
       "      <th>security_flag</th>\n",
       "    </tr>\n",
       "  </thead>\n",
       "  <tbody>\n",
       "    <tr>\n",
       "      <td>0</td>\n",
       "      <td>4</td>\n",
       "      <td>4</td>\n",
       "      <td>5</td>\n",
       "      <td>4 Bedroom terrace duplex for Lease. 3 years re...</td>\n",
       "      <td>ikeja</td>\n",
       "      <td>off isaac john street ikeja gra ikeja lagos</td>\n",
       "      <td>5000000</td>\n",
       "      <td>0</td>\n",
       "      <td>1</td>\n",
       "      <td>1</td>\n",
       "      <td>1</td>\n",
       "      <td>1</td>\n",
       "    </tr>\n",
       "    <tr>\n",
       "      <td>1777</td>\n",
       "      <td>5</td>\n",
       "      <td>5</td>\n",
       "      <td>6</td>\n",
       "      <td>Serviced 5 bedroom duplex (terrace) ... New. S...</td>\n",
       "      <td>lekki</td>\n",
       "      <td>off freedom way lekki phase 1 lekki phase 1 le...</td>\n",
       "      <td>5000000</td>\n",
       "      <td>0</td>\n",
       "      <td>1</td>\n",
       "      <td>1</td>\n",
       "      <td>1</td>\n",
       "      <td>1</td>\n",
       "    </tr>\n",
       "    <tr>\n",
       "      <td>128</td>\n",
       "      <td>5</td>\n",
       "      <td>5</td>\n",
       "      <td>6</td>\n",
       "      <td>A Bar and 4 Bedroom Duplex For Rent at Adeniyi...</td>\n",
       "      <td>ikeja</td>\n",
       "      <td>adeniyi jones ikeja lagos</td>\n",
       "      <td>5000000</td>\n",
       "      <td>0</td>\n",
       "      <td>1</td>\n",
       "      <td>0</td>\n",
       "      <td>0</td>\n",
       "      <td>0</td>\n",
       "    </tr>\n",
       "    <tr>\n",
       "      <td>1835</td>\n",
       "      <td>4</td>\n",
       "      <td>4</td>\n",
       "      <td>5</td>\n",
       "      <td>Newly built luxurious serviced 4bedroom bungal...</td>\n",
       "      <td>lekki</td>\n",
       "      <td>lekki paradise chevron lekki lagos</td>\n",
       "      <td>5000000</td>\n",
       "      <td>1</td>\n",
       "      <td>0</td>\n",
       "      <td>1</td>\n",
       "      <td>1</td>\n",
       "      <td>1</td>\n",
       "    </tr>\n",
       "    <tr>\n",
       "      <td>1868</td>\n",
       "      <td>4</td>\n",
       "      <td>4</td>\n",
       "      <td>5</td>\n",
       "      <td>4 BEDROOM DETACHED DUPLEX FOR RENT! Location: ...</td>\n",
       "      <td>lekki</td>\n",
       "      <td>orchid road oral estate lekki lagos</td>\n",
       "      <td>5000000</td>\n",
       "      <td>0</td>\n",
       "      <td>1</td>\n",
       "      <td>1</td>\n",
       "      <td>0</td>\n",
       "      <td>1</td>\n",
       "    </tr>\n",
       "    <tr>\n",
       "      <td>...</td>\n",
       "      <td>...</td>\n",
       "      <td>...</td>\n",
       "      <td>...</td>\n",
       "      <td>...</td>\n",
       "      <td>...</td>\n",
       "      <td>...</td>\n",
       "      <td>...</td>\n",
       "      <td>...</td>\n",
       "      <td>...</td>\n",
       "      <td>...</td>\n",
       "      <td>...</td>\n",
       "      <td>...</td>\n",
       "    </tr>\n",
       "    <tr>\n",
       "      <td>3203</td>\n",
       "      <td>5</td>\n",
       "      <td>6</td>\n",
       "      <td>6</td>\n",
       "      <td>It's a spacious and secured duplex in a lovely...</td>\n",
       "      <td>lekki</td>\n",
       "      <td>6th avenue eletu osapa london osapa london lek...</td>\n",
       "      <td>5000000</td>\n",
       "      <td>1</td>\n",
       "      <td>1</td>\n",
       "      <td>1</td>\n",
       "      <td>0</td>\n",
       "      <td>0</td>\n",
       "    </tr>\n",
       "    <tr>\n",
       "      <td>2640</td>\n",
       "      <td>4</td>\n",
       "      <td>4</td>\n",
       "      <td>5</td>\n",
       "      <td>Lovely 4 bedroom semi-detached duplex ... ...</td>\n",
       "      <td>lekki</td>\n",
       "      <td>osapa london lekki lagos</td>\n",
       "      <td>5000000</td>\n",
       "      <td>0</td>\n",
       "      <td>1</td>\n",
       "      <td>0</td>\n",
       "      <td>0</td>\n",
       "      <td>0</td>\n",
       "    </tr>\n",
       "    <tr>\n",
       "      <td>54</td>\n",
       "      <td>4</td>\n",
       "      <td>4</td>\n",
       "      <td>5</td>\n",
       "      <td>To Let: A 4 Bedroom Terrace duplex with a Room...</td>\n",
       "      <td>ikeja</td>\n",
       "      <td>showemimo str ikeja gra ikeja gra ikeja lagos</td>\n",
       "      <td>5000000</td>\n",
       "      <td>0</td>\n",
       "      <td>1</td>\n",
       "      <td>1</td>\n",
       "      <td>0</td>\n",
       "      <td>1</td>\n",
       "    </tr>\n",
       "    <tr>\n",
       "      <td>2636</td>\n",
       "      <td>4</td>\n",
       "      <td>4</td>\n",
       "      <td>5</td>\n",
       "      <td>The property is a newly built 4 bedroom detach...</td>\n",
       "      <td>lekki</td>\n",
       "      <td>lekki paradise estate chevron lekki lagos</td>\n",
       "      <td>5000000</td>\n",
       "      <td>1</td>\n",
       "      <td>1</td>\n",
       "      <td>1</td>\n",
       "      <td>1</td>\n",
       "      <td>1</td>\n",
       "    </tr>\n",
       "    <tr>\n",
       "      <td>31</td>\n",
       "      <td>3</td>\n",
       "      <td>4</td>\n",
       "      <td>4</td>\n",
       "      <td>Duplex for lease at Ikeja Gra very commercial ...</td>\n",
       "      <td>ikeja</td>\n",
       "      <td>ladoke akintola off isaac john ikeja gra ikeja...</td>\n",
       "      <td>5000000</td>\n",
       "      <td>0</td>\n",
       "      <td>1</td>\n",
       "      <td>0</td>\n",
       "      <td>0</td>\n",
       "      <td>1</td>\n",
       "    </tr>\n",
       "  </tbody>\n",
       "</table>\n",
       "<p>70 rows × 12 columns</p>\n",
       "</div>"
      ],
      "text/plain": [
       "      bedrooms  bathrooms  toilets  \\\n",
       "0            4          4        5   \n",
       "1777         5          5        6   \n",
       "128          5          5        6   \n",
       "1835         4          4        5   \n",
       "1868         4          4        5   \n",
       "...        ...        ...      ...   \n",
       "3203         5          6        6   \n",
       "2640         4          4        5   \n",
       "54           4          4        5   \n",
       "2636         4          4        5   \n",
       "31           3          4        4   \n",
       "\n",
       "                                            description location  \\\n",
       "0     4 Bedroom terrace duplex for Lease. 3 years re...    ikeja   \n",
       "1777  Serviced 5 bedroom duplex (terrace) ... New. S...    lekki   \n",
       "128   A Bar and 4 Bedroom Duplex For Rent at Adeniyi...    ikeja   \n",
       "1835  Newly built luxurious serviced 4bedroom bungal...    lekki   \n",
       "1868  4 BEDROOM DETACHED DUPLEX FOR RENT! Location: ...    lekki   \n",
       "...                                                 ...      ...   \n",
       "3203  It's a spacious and secured duplex in a lovely...    lekki   \n",
       "2640      Lovely 4 bedroom semi-detached duplex ... ...    lekki   \n",
       "54    To Let: A 4 Bedroom Terrace duplex with a Room...    ikeja   \n",
       "2636  The property is a newly built 4 bedroom detach...    lekki   \n",
       "31    Duplex for lease at Ikeja Gra very commercial ...    ikeja   \n",
       "\n",
       "                                          spec_location    price  estate_flag  \\\n",
       "0           off isaac john street ikeja gra ikeja lagos  5000000            0   \n",
       "1777  off freedom way lekki phase 1 lekki phase 1 le...  5000000            0   \n",
       "128                           adeniyi jones ikeja lagos  5000000            0   \n",
       "1835                 lekki paradise chevron lekki lagos  5000000            1   \n",
       "1868                orchid road oral estate lekki lagos  5000000            0   \n",
       "...                                                 ...      ...          ...   \n",
       "3203  6th avenue eletu osapa london osapa london lek...  5000000            1   \n",
       "2640                           osapa london lekki lagos  5000000            0   \n",
       "54        showemimo str ikeja gra ikeja gra ikeja lagos  5000000            0   \n",
       "2636          lekki paradise estate chevron lekki lagos  5000000            1   \n",
       "31    ladoke akintola off isaac john ikeja gra ikeja...  5000000            0   \n",
       "\n",
       "      terrace_flag  new_flag  serviced_flag  security_flag  \n",
       "0                1         1              1              1  \n",
       "1777             1         1              1              1  \n",
       "128              1         0              0              0  \n",
       "1835             0         1              1              1  \n",
       "1868             1         1              0              1  \n",
       "...            ...       ...            ...            ...  \n",
       "3203             1         1              0              0  \n",
       "2640             1         0              0              0  \n",
       "54               1         1              0              1  \n",
       "2636             1         1              1              1  \n",
       "31               1         0              0              1  \n",
       "\n",
       "[70 rows x 12 columns]"
      ]
     },
     "execution_count": 166,
     "metadata": {},
     "output_type": "execute_result"
    }
   ],
   "source": [
    "# Inspect prices greater than the threshold\n",
    "train2[train2['price'] <= threshold].sort_values('price', ascending=False).head(70)"
   ]
  },
  {
   "cell_type": "code",
   "execution_count": 167,
   "metadata": {
    "ExecuteTime": {
     "end_time": "2020-05-01T18:03:55.513012Z",
     "start_time": "2020-05-01T18:03:55.400075Z"
    }
   },
   "outputs": [],
   "source": [
    "#Notice that some of the houses are actually for sale \n",
    "#and not rent hence the reason for the high price"
   ]
  },
  {
   "cell_type": "code",
   "execution_count": 168,
   "metadata": {
    "ExecuteTime": {
     "end_time": "2020-05-01T18:03:55.985258Z",
     "start_time": "2020-05-01T18:03:55.516009Z"
    }
   },
   "outputs": [
    {
     "data": {
      "text/plain": [
       "<matplotlib.axes._subplots.AxesSubplot at 0x211fd3a3860>"
      ]
     },
     "execution_count": 168,
     "metadata": {},
     "output_type": "execute_result"
    },
    {
     "data": {
      "image/png": "[encoded data removed]",
      "text/plain": [
       "<Figure size 432x288 with 1 Axes>"
      ]
     },
     "metadata": {
      "needs_background": "light"
     },
     "output_type": "display_data"
    }
   ],
   "source": [
    "# Examine distribution of all houses to identify outliers\n",
    "train2['price'][train2['price'] <= threshold].plot(\"hist\")"
   ]
  },
  {
   "cell_type": "code",
   "execution_count": 169,
   "metadata": {
    "ExecuteTime": {
     "end_time": "2020-05-01T18:03:55.997251Z",
     "start_time": "2020-05-01T18:03:55.989254Z"
    }
   },
   "outputs": [],
   "source": [
    "# Subset to eliminate outliers\n",
    "train2 = train2[train2['price'] <= threshold]"
   ]
  },
  {
   "cell_type": "code",
   "execution_count": 170,
   "metadata": {
    "ExecuteTime": {
     "end_time": "2020-05-01T18:03:56.178645Z",
     "start_time": "2020-05-01T18:03:56.000248Z"
    }
   },
   "outputs": [
    {
     "data": {
      "text/plain": [
       "(2955, 12)"
      ]
     },
     "execution_count": 170,
     "metadata": {},
     "output_type": "execute_result"
    }
   ],
   "source": [
    "#check shape\n",
    "train2.shape"
   ]
  },
  {
   "cell_type": "code",
   "execution_count": 171,
   "metadata": {
    "ExecuteTime": {
     "end_time": "2020-05-01T18:03:57.169123Z",
     "start_time": "2020-05-01T18:03:56.189638Z"
    }
   },
   "outputs": [
    {
     "data": {
      "text/plain": [
       "<matplotlib.axes._subplots.AxesSubplot at 0x211fd4a1080>"
      ]
     },
     "execution_count": 171,
     "metadata": {},
     "output_type": "execute_result"
    },
    {
     "data": {
      "image/png": "[encoded data removed]",
      "text/plain": [
       "<Figure size 2160x504 with 3 Axes>"
      ]
     },
     "metadata": {
      "needs_background": "light"
     },
     "output_type": "display_data"
    }
   ],
   "source": [
    "#Inspect the distribution of houses per location and size of house\n",
    "locations = list(train2['location'].unique())\n",
    "\n",
    "import matplotlib.pyplot as plt\n",
    "fig = plt.figure(figsize=(30,7))\n",
    "fig.add_subplot(1, 3, 1)\n",
    "train2['price'][(train2['location']==locations[0])&(train2['bedrooms']==1)].plot(\"hist\")\n",
    "fig.add_subplot(1, 3, 2)\n",
    "train2['price'][(train2['location']==locations[1])&(train2['bedrooms']==1)].plot(\"hist\")\n",
    "fig.add_subplot(1, 3, 3)\n",
    "train2['price'][(train2['location']==locations[2])&(train2['bedrooms']==1)].plot(\"hist\")"
   ]
  },
  {
   "cell_type": "code",
   "execution_count": 172,
   "metadata": {
    "ExecuteTime": {
     "end_time": "2020-05-01T18:03:58.029630Z",
     "start_time": "2020-05-01T18:03:57.173118Z"
    }
   },
   "outputs": [
    {
     "data": {
      "text/plain": [
       "<matplotlib.axes._subplots.AxesSubplot at 0x211fd5e9208>"
      ]
     },
     "execution_count": 172,
     "metadata": {},
     "output_type": "execute_result"
    },
    {
     "data": {
      "image/png": "[encoded data removed]",
      "text/plain": [
       "<Figure size 2160x504 with 3 Axes>"
      ]
     },
     "metadata": {
      "needs_background": "light"
     },
     "output_type": "display_data"
    }
   ],
   "source": [
    "#Inspect the distribution of houses per location and size of house\n",
    "locations = list(train2['location'].unique())\n",
    "\n",
    "import matplotlib.pyplot as plt\n",
    "fig = plt.figure(figsize=(30,7))\n",
    "fig.add_subplot(1, 3, 1)\n",
    "train2['price'][(train2['location']==locations[6])&(train2['bedrooms']==1)].plot(\"hist\")\n",
    "fig.add_subplot(1, 3, 2)\n",
    "train2['price'][(train2['location']==locations[7])&(train2['bedrooms']==3)].plot(\"hist\")\n",
    "fig.add_subplot(1, 3, 3)\n",
    "train2['price'][(train2['location']==locations[8])&(train2['bedrooms']==1)].plot(\"hist\")"
   ]
  },
  {
   "cell_type": "code",
   "execution_count": 173,
   "metadata": {
    "ExecuteTime": {
     "end_time": "2020-05-01T18:03:58.899133Z",
     "start_time": "2020-05-01T18:03:58.032626Z"
    }
   },
   "outputs": [
    {
     "name": "stdout",
     "output_type": "stream",
     "text": [
      "This is the median for 1 bedroom in ikeja :  575000.0\n",
      "This is the median for 2 bedroom in ikeja :  1300000.0\n",
      "This is the median for 3 bedroom in ikeja :  2400000.0\n",
      "This is the median for 4 bedroom in ikeja :  3500000.0\n",
      "This is the median for 5 bedroom in ikeja :  4000000.0\n",
      "This is the median for 6 bedroom in ikeja :  0\n",
      "This is the median for 7 bedroom in ikeja :  0\n",
      "This is the median for 8 bedroom in ikeja :  0\n",
      "This is the median for 9 bedroom in ikeja :  0\n",
      "This is the median for 1 bedroom in ikorodu :  120000.0\n",
      "This is the median for 2 bedroom in ikorodu :  250000.0\n",
      "This is the median for 3 bedroom in ikorodu :  400000.0\n",
      "This is the median for 4 bedroom in ikorodu :  600000.0\n",
      "This is the median for 5 bedroom in ikorodu :  0\n",
      "This is the median for 6 bedroom in ikorodu :  0\n",
      "This is the median for 7 bedroom in ikorodu :  0\n",
      "This is the median for 8 bedroom in ikorodu :  0\n",
      "This is the median for 9 bedroom in ikorodu :  3000000.0\n",
      "This is the median for 1 bedroom in surulere :  450000.0\n",
      "This is the median for 2 bedroom in surulere :  900000.0\n",
      "This is the median for 3 bedroom in surulere :  1200000.0\n",
      "This is the median for 4 bedroom in surulere :  2500000.0\n",
      "This is the median for 5 bedroom in surulere :  0\n",
      "This is the median for 6 bedroom in surulere :  2350000.0\n",
      "This is the median for 7 bedroom in surulere :  0\n",
      "This is the median for 8 bedroom in surulere :  0\n",
      "This is the median for 9 bedroom in surulere :  4000000.0\n",
      "This is the median for 1 bedroom in yaba :  450000.0\n",
      "This is the median for 2 bedroom in yaba :  850000.0\n",
      "This is the median for 3 bedroom in yaba :  1300000.0\n",
      "This is the median for 4 bedroom in yaba :  3000000.0\n",
      "This is the median for 5 bedroom in yaba :  1500000.0\n",
      "This is the median for 6 bedroom in yaba :  2000000.0\n",
      "This is the median for 7 bedroom in yaba :  0\n",
      "This is the median for 8 bedroom in yaba :  0\n",
      "This is the median for 9 bedroom in yaba :  0\n",
      "This is the median for 1 bedroom in ajah :  450000.0\n",
      "This is the median for 2 bedroom in ajah :  800000.0\n",
      "This is the median for 3 bedroom in ajah :  1000000.0\n",
      "This is the median for 4 bedroom in ajah :  2000000.0\n",
      "This is the median for 5 bedroom in ajah :  2000000.0\n",
      "This is the median for 6 bedroom in ajah :  3000000.0\n",
      "This is the median for 7 bedroom in ajah :  3000000.0\n",
      "This is the median for 8 bedroom in ajah :  0\n",
      "This is the median for 9 bedroom in ajah :  0\n",
      "This is the median for 1 bedroom in gbagada :  450000.0\n",
      "This is the median for 2 bedroom in gbagada :  850000.0\n",
      "This is the median for 3 bedroom in gbagada :  1300000.0\n",
      "This is the median for 4 bedroom in gbagada :  2000000.0\n",
      "This is the median for 5 bedroom in gbagada :  0\n",
      "This is the median for 6 bedroom in gbagada :  0\n",
      "This is the median for 7 bedroom in gbagada :  0\n",
      "This is the median for 8 bedroom in gbagada :  0\n",
      "This is the median for 9 bedroom in gbagada :  0\n",
      "This is the median for 1 bedroom in ogba :  300000.0\n",
      "This is the median for 2 bedroom in ogba :  700000.0\n",
      "This is the median for 3 bedroom in ogba :  750000.0\n",
      "This is the median for 4 bedroom in ogba :  1650000.0\n",
      "This is the median for 5 bedroom in ogba :  0\n",
      "This is the median for 6 bedroom in ogba :  0\n",
      "This is the median for 7 bedroom in ogba :  0\n",
      "This is the median for 8 bedroom in ogba :  0\n",
      "This is the median for 9 bedroom in ogba :  0\n",
      "This is the median for 1 bedroom in iyanaipaja :  0\n",
      "This is the median for 2 bedroom in iyanaipaja :  0\n",
      "This is the median for 3 bedroom in iyanaipaja :  4500000.0\n",
      "This is the median for 4 bedroom in iyanaipaja :  0\n",
      "This is the median for 5 bedroom in iyanaipaja :  0\n",
      "This is the median for 6 bedroom in iyanaipaja :  0\n",
      "This is the median for 7 bedroom in iyanaipaja :  0\n",
      "This is the median for 8 bedroom in iyanaipaja :  0\n",
      "This is the median for 9 bedroom in iyanaipaja :  0\n",
      "This is the median for 1 bedroom in lekki :  1000000.0\n",
      "This is the median for 2 bedroom in lekki :  2000000.0\n",
      "This is the median for 3 bedroom in lekki :  2500000.0\n",
      "This is the median for 4 bedroom in lekki :  3500000.0\n",
      "This is the median for 5 bedroom in lekki :  4000000.0\n",
      "This is the median for 6 bedroom in lekki :  4000000.0\n",
      "This is the median for 7 bedroom in lekki :  0\n",
      "This is the median for 8 bedroom in lekki :  5000000.0\n",
      "This is the median for 9 bedroom in lekki :  0\n"
     ]
    }
   ],
   "source": [
    "#Since some houses may have missing info it means some estate/serviced houses are not called estate/serviced houses. \n",
    "#Assumptions are made around houses which are not identified as estate/ service houses. \n",
    "#The median/50th percentile of those houses is identified and any house above the median is considered as estate.\n",
    "#Houses higher than 80th percentile are classified as serviced\n",
    "\n",
    "\n",
    "estate_price = []\n",
    "import numpy as np\n",
    "for location in locations:\n",
    "    for i in range(1,10):\n",
    "        d = {}\n",
    "        d['location'] = location\n",
    "        d['bedspace'] = i\n",
    "        try:\n",
    "            d['estate_price'] = np.percentile(train2['price'][(train2['location']==location)&(train2['bedrooms']==i)&(train2['estate_flag']==0)],50)\n",
    "            d['serviced_price'] = np.percentile(train2['price'][(train2['location']==location)&(train2['bedrooms']==i)&(train2['estate_flag']==0)],80)\n",
    "        except (IndexError,TypeError) as e:\n",
    "            d['serviced_price'] = 0\n",
    "            d['estate_price'] = 0\n",
    "        estate_price.append(d)\n",
    "        try:\n",
    "            print(\"This is the median for {bed} bedroom in {location} : \".format(bed = i,location = location) ,np.percentile(train2['price'][(train2['location']==location)&(train2['bedrooms']==i)&(train2['estate_flag']==0)],50))\n",
    "        except (IndexError,TypeError) as e:\n",
    "            print(\"This is the median for {bed} bedroom in {location} : \".format(bed = i,location = location) ,0)"
   ]
  },
  {
   "cell_type": "code",
   "execution_count": 174,
   "metadata": {
    "ExecuteTime": {
     "end_time": "2020-05-01T18:03:58.915122Z",
     "start_time": "2020-05-01T18:03:58.902132Z"
    }
   },
   "outputs": [],
   "source": [
    "#save the output in a dataframe and in order to merge with original dataframe\n",
    "estate_price=pd.DataFrame(estate_price)\n",
    "estate_price['locationbed'] = estate_price['location'] + estate_price['bedspace'].astype(str)\n",
    "estate_price = estate_price.drop([\"location\",\"bedspace\"],axis=1)"
   ]
  },
  {
   "cell_type": "code",
   "execution_count": null,
   "metadata": {},
   "outputs": [],
   "source": []
  },
  {
   "cell_type": "code",
   "execution_count": 175,
   "metadata": {
    "ExecuteTime": {
     "end_time": "2020-05-01T18:03:59.116012Z",
     "start_time": "2020-05-01T18:03:58.919120Z"
    }
   },
   "outputs": [
    {
     "data": {
      "text/html": [
       "<div>\n",
       "<style scoped>\n",
       "    .dataframe tbody tr th:only-of-type {\n",
       "        vertical-align: middle;\n",
       "    }\n",
       "\n",
       "    .dataframe tbody tr th {\n",
       "        vertical-align: top;\n",
       "    }\n",
       "\n",
       "    .dataframe thead th {\n",
       "        text-align: right;\n",
       "    }\n",
       "</style>\n",
       "<table border=\"1\" class=\"dataframe\">\n",
       "  <thead>\n",
       "    <tr style=\"text-align: right;\">\n",
       "      <th></th>\n",
       "      <th>estate_price</th>\n",
       "      <th>serviced_price</th>\n",
       "      <th>locationbed</th>\n",
       "    </tr>\n",
       "  </thead>\n",
       "  <tbody>\n",
       "    <tr>\n",
       "      <td>0</td>\n",
       "      <td>575000.0</td>\n",
       "      <td>1000000.0</td>\n",
       "      <td>ikeja1</td>\n",
       "    </tr>\n",
       "    <tr>\n",
       "      <td>1</td>\n",
       "      <td>1300000.0</td>\n",
       "      <td>2600000.0</td>\n",
       "      <td>ikeja2</td>\n",
       "    </tr>\n",
       "    <tr>\n",
       "      <td>2</td>\n",
       "      <td>2400000.0</td>\n",
       "      <td>3500000.0</td>\n",
       "      <td>ikeja3</td>\n",
       "    </tr>\n",
       "    <tr>\n",
       "      <td>3</td>\n",
       "      <td>3500000.0</td>\n",
       "      <td>5000000.0</td>\n",
       "      <td>ikeja4</td>\n",
       "    </tr>\n",
       "    <tr>\n",
       "      <td>4</td>\n",
       "      <td>4000000.0</td>\n",
       "      <td>4400000.0</td>\n",
       "      <td>ikeja5</td>\n",
       "    </tr>\n",
       "  </tbody>\n",
       "</table>\n",
       "</div>"
      ],
      "text/plain": [
       "   estate_price  serviced_price locationbed\n",
       "0      575000.0       1000000.0      ikeja1\n",
       "1     1300000.0       2600000.0      ikeja2\n",
       "2     2400000.0       3500000.0      ikeja3\n",
       "3     3500000.0       5000000.0      ikeja4\n",
       "4     4000000.0       4400000.0      ikeja5"
      ]
     },
     "execution_count": 175,
     "metadata": {},
     "output_type": "execute_result"
    }
   ],
   "source": [
    "estate_price.head()"
   ]
  },
  {
   "cell_type": "code",
   "execution_count": 176,
   "metadata": {
    "ExecuteTime": {
     "end_time": "2020-05-01T18:03:59.246996Z",
     "start_time": "2020-05-01T18:03:59.126005Z"
    }
   },
   "outputs": [],
   "source": [
    "#merge to original dataframe to create new dataframe\n",
    "train2['locationbed']  = train2 ['location'] + train2 ['bedrooms'].astype(str)\n",
    "train3 = pd.merge(train2,estate_price, on =\"locationbed\", how = \"left\")"
   ]
  },
  {
   "cell_type": "code",
   "execution_count": 177,
   "metadata": {
    "ExecuteTime": {
     "end_time": "2020-05-01T18:03:59.574186Z",
     "start_time": "2020-05-01T18:03:59.250933Z"
    }
   },
   "outputs": [],
   "source": [
    "#identify estate houses that were not called estate houses by assigning houses greater than median as estate houses\n",
    "#identify serviced houses that were not called serviced houses by assigning houses greater than 80th percentile as serviced houses\n",
    "#terrace houses are typically greater than 1.8m based on distribution\n",
    "train3['estate_flag'][(train3['bedrooms']==1)&(train3['price'] > train3['estate_price'])] = 1\n",
    "train3['estate_flag'][(train3['bedrooms']==2)&(train3['price'] > train3['estate_price'])] = 1\n",
    "train3['estate_flag'][(train3['bedrooms']==3)&(train3['price'] > train3['estate_price'])] = 1\n",
    "train3['estate_flag'][(train3['bedrooms']==4)&(train3['price'] > train3['estate_price'])] = 1\n",
    "train3['estate_flag'][(train3['bedrooms']==5)&(train3['price'] > train3['estate_price'])] = 1\n",
    "train3['estate_flag'][(train3['bedrooms']==6)&(train3['price'] > train3['estate_price'])] = 1\n",
    "train3['estate_flag'][(train3['bedrooms']==7)&(train3['price'] > train3['estate_price'])] = 1\n",
    "train3['estate_flag'][(train3['bedrooms']==8)&(train3['price'] > train3['estate_price'])] = 1\n",
    "train3['estate_flag'][(train3['bedrooms']==9)&(train3['price'] > train3['estate_price'])] = 1\n",
    "train3['serviced_flag'][(train3['bedrooms']==1)&(train3['price'] > train3['serviced_price'])] = 1\n",
    "train3['serviced_flag'][(train3['bedrooms']==2)&(train3['price'] > train3['serviced_price'])] = 1\n",
    "train3['serviced_flag'][(train3['bedrooms']==3)&(train3['price'] > train3['serviced_price'])] = 1\n",
    "train3['serviced_flag'][(train3['bedrooms']==4)&(train3['price'] > train3['serviced_price'])] = 1\n",
    "train3['serviced_flag'][(train3['bedrooms']==5)&(train3['price'] > train3['serviced_price'])] = 1\n",
    "train3['serviced_flag'][(train3['bedrooms']==6)&(train3['price'] > train3['serviced_price'])] = 1\n",
    "train3['serviced_flag'][(train3['bedrooms']==7)&(train3['price'] > train3['serviced_price'])] = 1\n",
    "train3['serviced_flag'][(train3['bedrooms']==8)&(train3['price'] > train3['serviced_price'])] = 1\n",
    "train3['serviced_flag'][(train3['bedrooms']==9)&(train3['price'] > train3['serviced_price'])] = 1"
   ]
  },
  {
   "cell_type": "code",
   "execution_count": 178,
   "metadata": {
    "ExecuteTime": {
     "end_time": "2020-05-01T18:04:00.310763Z",
     "start_time": "2020-05-01T18:03:59.580182Z"
    }
   },
   "outputs": [
    {
     "data": {
      "text/plain": [
       "<matplotlib.axes._subplots.AxesSubplot at 0x211fdcf2a20>"
      ]
     },
     "execution_count": 178,
     "metadata": {},
     "output_type": "execute_result"
    },
    {
     "data": {
      "image/png": "[encoded data removed]",
      "text/plain": [
       "<Figure size 2160x504 with 2 Axes>"
      ]
     },
     "metadata": {
      "needs_background": "light"
     },
     "output_type": "display_data"
    }
   ],
   "source": [
    "#inspect houses that are terrace/duplex/detached to see if they are typically higher \n",
    "fig = plt.figure(figsize=(30,7))\n",
    "fig.add_subplot(1, 2, 1)\n",
    "train3['price'][train3['terrace_flag']==0].plot(\"hist\")\n",
    "fig.add_subplot(1, 2, 2)\n",
    "train3['price'][train3['terrace_flag']==1].plot(\"hist\")"
   ]
  },
  {
   "cell_type": "code",
   "execution_count": 179,
   "metadata": {
    "ExecuteTime": {
     "end_time": "2020-05-01T18:04:01.145290Z",
     "start_time": "2020-05-01T18:04:00.315763Z"
    },
    "scrolled": false
   },
   "outputs": [
    {
     "name": "stdout",
     "output_type": "stream",
     "text": [
      "This is the median for a normal 2 bedroom in ikeja :  1300000.0\n",
      "This is the median for a terraced 2 bedroom in ikeja :  1100000.0\n",
      "This is the median for a normal 3 bedroom in ikeja :  2000000.0\n",
      "This is the median for a terraced 3 bedroom in ikeja :  3350000.0\n",
      "This is the median for a normal 4 bedroom in ikeja :  3250000.0\n",
      "This is the median for a terraced 4 bedroom in ikeja :  3500000.0\n",
      "This is the median for a normal 5 bedroom in ikeja :  4000000.0\n",
      "This is the median for a terraced 5 bedroom in ikeja :  3750000.0\n",
      "This is the median for a normal 6 bedroom in ikeja :  0\n",
      "This is the median for a terraced 6 bedroom in ikeja :  0\n",
      "This is the median for a normal 7 bedroom in ikeja :  0\n",
      "This is the median for a terraced 7 bedroom in ikeja :  0\n",
      "This is the median for a normal 8 bedroom in ikeja :  0\n",
      "This is the median for a terraced 8 bedroom in ikeja :  5000000.0\n",
      "This is the median for a normal 9 bedroom in ikeja :  0\n",
      "This is the median for a terraced 9 bedroom in ikeja :  0\n",
      "This is the median for a normal 2 bedroom in ikorodu :  250000.0\n",
      "This is the median for a terraced 2 bedroom in ikorodu :  435000.0\n",
      "This is the median for a normal 3 bedroom in ikorodu :  400000.0\n",
      "This is the median for a terraced 3 bedroom in ikorodu :  500000.0\n",
      "This is the median for a normal 4 bedroom in ikorodu :  0\n",
      "This is the median for a terraced 4 bedroom in ikorodu :  600000.0\n",
      "This is the median for a normal 5 bedroom in ikorodu :  0\n",
      "This is the median for a terraced 5 bedroom in ikorodu :  0\n",
      "This is the median for a normal 6 bedroom in ikorodu :  0\n",
      "This is the median for a terraced 6 bedroom in ikorodu :  0\n",
      "This is the median for a normal 7 bedroom in ikorodu :  0\n",
      "This is the median for a terraced 7 bedroom in ikorodu :  0\n",
      "This is the median for a normal 8 bedroom in ikorodu :  0\n",
      "This is the median for a terraced 8 bedroom in ikorodu :  0\n",
      "This is the median for a normal 9 bedroom in ikorodu :  3000000.0\n",
      "This is the median for a terraced 9 bedroom in ikorodu :  0\n",
      "This is the median for a normal 2 bedroom in surulere :  900000.0\n",
      "This is the median for a terraced 2 bedroom in surulere :  1600000.0\n",
      "This is the median for a normal 3 bedroom in surulere :  1200000.0\n",
      "This is the median for a terraced 3 bedroom in surulere :  2000000.0\n",
      "This is the median for a normal 4 bedroom in surulere :  2500000.0\n",
      "This is the median for a terraced 4 bedroom in surulere :  2500000.0\n",
      "This is the median for a normal 5 bedroom in surulere :  0\n",
      "This is the median for a terraced 5 bedroom in surulere :  0\n",
      "This is the median for a normal 6 bedroom in surulere :  2000000.0\n",
      "This is the median for a terraced 6 bedroom in surulere :  2700000.0\n",
      "This is the median for a normal 7 bedroom in surulere :  0\n",
      "This is the median for a terraced 7 bedroom in surulere :  0\n",
      "This is the median for a normal 8 bedroom in surulere :  0\n",
      "This is the median for a terraced 8 bedroom in surulere :  0\n",
      "This is the median for a normal 9 bedroom in surulere :  4000000.0\n",
      "This is the median for a terraced 9 bedroom in surulere :  0\n",
      "This is the median for a normal 2 bedroom in yaba :  850000.0\n",
      "This is the median for a terraced 2 bedroom in yaba :  0\n",
      "This is the median for a normal 3 bedroom in yaba :  1300000.0\n",
      "This is the median for a terraced 3 bedroom in yaba :  3100000.0\n",
      "This is the median for a normal 4 bedroom in yaba :  3000000.0\n",
      "This is the median for a terraced 4 bedroom in yaba :  3200000.0\n",
      "This is the median for a normal 5 bedroom in yaba :  1500000.0\n",
      "This is the median for a terraced 5 bedroom in yaba :  0\n",
      "This is the median for a normal 6 bedroom in yaba :  0\n",
      "This is the median for a terraced 6 bedroom in yaba :  2000000.0\n",
      "This is the median for a normal 7 bedroom in yaba :  0\n",
      "This is the median for a terraced 7 bedroom in yaba :  0\n",
      "This is the median for a normal 8 bedroom in yaba :  0\n",
      "This is the median for a terraced 8 bedroom in yaba :  0\n",
      "This is the median for a normal 9 bedroom in yaba :  0\n",
      "This is the median for a terraced 9 bedroom in yaba :  0\n",
      "This is the median for a normal 2 bedroom in ajah :  800000.0\n",
      "This is the median for a terraced 2 bedroom in ajah :  650000.0\n",
      "This is the median for a normal 3 bedroom in ajah :  1000000.0\n",
      "This is the median for a terraced 3 bedroom in ajah :  1500000.0\n",
      "This is the median for a normal 4 bedroom in ajah :  1800000.0\n",
      "This is the median for a terraced 4 bedroom in ajah :  2000000.0\n",
      "This is the median for a normal 5 bedroom in ajah :  2100000.0\n",
      "This is the median for a terraced 5 bedroom in ajah :  2800000.0\n",
      "This is the median for a normal 6 bedroom in ajah :  0\n",
      "This is the median for a terraced 6 bedroom in ajah :  3000000.0\n",
      "This is the median for a normal 7 bedroom in ajah :  0\n",
      "This is the median for a terraced 7 bedroom in ajah :  3000000.0\n",
      "This is the median for a normal 8 bedroom in ajah :  0\n",
      "This is the median for a terraced 8 bedroom in ajah :  0\n",
      "This is the median for a normal 9 bedroom in ajah :  0\n",
      "This is the median for a terraced 9 bedroom in ajah :  0\n",
      "This is the median for a normal 2 bedroom in gbagada :  850000.0\n",
      "This is the median for a terraced 2 bedroom in gbagada :  0\n",
      "This is the median for a normal 3 bedroom in gbagada :  1500000.0\n",
      "This is the median for a terraced 3 bedroom in gbagada :  2000000.0\n",
      "This is the median for a normal 4 bedroom in gbagada :  1500000.0\n",
      "This is the median for a terraced 4 bedroom in gbagada :  3000000.0\n",
      "This is the median for a normal 5 bedroom in gbagada :  0\n",
      "This is the median for a terraced 5 bedroom in gbagada :  2000000.0\n",
      "This is the median for a normal 6 bedroom in gbagada :  0\n",
      "This is the median for a terraced 6 bedroom in gbagada :  0\n",
      "This is the median for a normal 7 bedroom in gbagada :  0\n",
      "This is the median for a terraced 7 bedroom in gbagada :  0\n",
      "This is the median for a normal 8 bedroom in gbagada :  0\n",
      "This is the median for a terraced 8 bedroom in gbagada :  0\n",
      "This is the median for a normal 9 bedroom in gbagada :  0\n",
      "This is the median for a terraced 9 bedroom in gbagada :  0\n",
      "This is the median for a normal 2 bedroom in ogba :  650000.0\n",
      "This is the median for a terraced 2 bedroom in ogba :  1200000.0\n",
      "This is the median for a normal 3 bedroom in ogba :  750000.0\n",
      "This is the median for a terraced 3 bedroom in ogba :  750000.0\n",
      "This is the median for a normal 4 bedroom in ogba :  0\n",
      "This is the median for a terraced 4 bedroom in ogba :  1800000.0\n",
      "This is the median for a normal 5 bedroom in ogba :  0\n",
      "This is the median for a terraced 5 bedroom in ogba :  0\n",
      "This is the median for a normal 6 bedroom in ogba :  0\n",
      "This is the median for a terraced 6 bedroom in ogba :  0\n",
      "This is the median for a normal 7 bedroom in ogba :  0\n",
      "This is the median for a terraced 7 bedroom in ogba :  0\n",
      "This is the median for a normal 8 bedroom in ogba :  0\n",
      "This is the median for a terraced 8 bedroom in ogba :  0\n",
      "This is the median for a normal 9 bedroom in ogba :  0\n",
      "This is the median for a terraced 9 bedroom in ogba :  0\n",
      "This is the median for a normal 2 bedroom in iyanaipaja :  0\n",
      "This is the median for a terraced 2 bedroom in iyanaipaja :  0\n",
      "This is the median for a normal 3 bedroom in iyanaipaja :  4500000.0\n",
      "This is the median for a terraced 3 bedroom in iyanaipaja :  0\n",
      "This is the median for a normal 4 bedroom in iyanaipaja :  0\n",
      "This is the median for a terraced 4 bedroom in iyanaipaja :  0\n",
      "This is the median for a normal 5 bedroom in iyanaipaja :  0\n",
      "This is the median for a terraced 5 bedroom in iyanaipaja :  0\n",
      "This is the median for a normal 6 bedroom in iyanaipaja :  0\n",
      "This is the median for a terraced 6 bedroom in iyanaipaja :  0\n",
      "This is the median for a normal 7 bedroom in iyanaipaja :  0\n",
      "This is the median for a terraced 7 bedroom in iyanaipaja :  0\n",
      "This is the median for a normal 8 bedroom in iyanaipaja :  0\n",
      "This is the median for a terraced 8 bedroom in iyanaipaja :  0\n",
      "This is the median for a normal 9 bedroom in iyanaipaja :  0\n",
      "This is the median for a terraced 9 bedroom in iyanaipaja :  0\n",
      "This is the median for a normal 2 bedroom in lekki :  2000000.0\n",
      "This is the median for a terraced 2 bedroom in lekki :  2000000.0\n",
      "This is the median for a normal 3 bedroom in lekki :  2500000.0\n",
      "This is the median for a terraced 3 bedroom in lekki :  3000000.0\n",
      "This is the median for a normal 4 bedroom in lekki :  3400000.0\n",
      "This is the median for a terraced 4 bedroom in lekki :  3500000.0\n",
      "This is the median for a normal 5 bedroom in lekki :  3800000.0\n",
      "This is the median for a terraced 5 bedroom in lekki :  4000000.0\n",
      "This is the median for a normal 6 bedroom in lekki :  4000000.0\n",
      "This is the median for a terraced 6 bedroom in lekki :  3750000.0\n",
      "This is the median for a normal 7 bedroom in lekki :  0\n",
      "This is the median for a terraced 7 bedroom in lekki :  0\n",
      "This is the median for a normal 8 bedroom in lekki :  5000000.0\n",
      "This is the median for a terraced 8 bedroom in lekki :  0\n",
      "This is the median for a normal 9 bedroom in lekki :  0\n",
      "This is the median for a terraced 9 bedroom in lekki :  0\n"
     ]
    }
   ],
   "source": [
    "#check to find out if Terrace/duplex/detached houses are higher than normal houses on average\n",
    "for location in locations:\n",
    "    for i in range(2,10):\n",
    "        \n",
    "        try:\n",
    "            print(\"This is the median for a normal {bed} bedroom in {location} : \".format(bed = i,location = location) ,np.percentile(train2['price'][(train2['location']==location)&(train2['bedrooms']==i)&(train2['terrace_flag']==0)],50))\n",
    "        except (IndexError,TypeError) as e:\n",
    "            print(\"This is the median for a normal {bed} bedroom in {location} : \".format(bed = i,location = location) ,0)\n",
    "        try:\n",
    "            print(\"This is the median for a terraced {bed} bedroom in {location} : \".format(bed = i,location = location) ,np.percentile(train2['price'][(train2['location']==location)&(train2['bedrooms']==i)&(train2['terrace_flag']==1)],50))\n",
    "        except (IndexError,TypeError) as e:\n",
    "            print(\"This is the median for a terraced {bed} bedroom in {location} : \".format(bed = i,location = location) ,0)"
   ]
  },
  {
   "cell_type": "code",
   "execution_count": 180,
   "metadata": {
    "ExecuteTime": {
     "end_time": "2020-05-01T18:04:01.745944Z",
     "start_time": "2020-05-01T18:04:01.149288Z"
    }
   },
   "outputs": [
    {
     "name": "stdout",
     "output_type": "stream",
     "text": [
      "This is the median for a terrace 2 bedroom in ikeja :  1100000.0\n",
      "This is the median for a terrace 3 bedroom in ikeja :  3350000.0\n",
      "This is the median for a terrace 4 bedroom in ikeja :  3500000.0\n",
      "This is the median for a terrace 5 bedroom in ikeja :  3750000.0\n",
      "This is the median for a terrace 6 bedroom in ikeja :  0\n",
      "This is the median for a terrace 7 bedroom in ikeja :  0\n",
      "This is the median for a terrace 8 bedroom in ikeja :  5000000.0\n",
      "This is the median for a terrace 9 bedroom in ikeja :  0\n",
      "This is the median for a terrace 2 bedroom in ikorodu :  435000.0\n",
      "This is the median for a terrace 3 bedroom in ikorodu :  500000.0\n",
      "This is the median for a terrace 4 bedroom in ikorodu :  600000.0\n",
      "This is the median for a terrace 5 bedroom in ikorodu :  0\n",
      "This is the median for a terrace 6 bedroom in ikorodu :  0\n",
      "This is the median for a terrace 7 bedroom in ikorodu :  0\n",
      "This is the median for a terrace 8 bedroom in ikorodu :  0\n",
      "This is the median for a terrace 9 bedroom in ikorodu :  0\n",
      "This is the median for a terrace 2 bedroom in surulere :  1600000.0\n",
      "This is the median for a terrace 3 bedroom in surulere :  2000000.0\n",
      "This is the median for a terrace 4 bedroom in surulere :  2500000.0\n",
      "This is the median for a terrace 5 bedroom in surulere :  0\n",
      "This is the median for a terrace 6 bedroom in surulere :  2700000.0\n",
      "This is the median for a terrace 7 bedroom in surulere :  0\n",
      "This is the median for a terrace 8 bedroom in surulere :  0\n",
      "This is the median for a terrace 9 bedroom in surulere :  0\n",
      "This is the median for a terrace 2 bedroom in yaba :  0\n",
      "This is the median for a terrace 3 bedroom in yaba :  3100000.0\n",
      "This is the median for a terrace 4 bedroom in yaba :  3200000.0\n",
      "This is the median for a terrace 5 bedroom in yaba :  0\n",
      "This is the median for a terrace 6 bedroom in yaba :  2000000.0\n",
      "This is the median for a terrace 7 bedroom in yaba :  0\n",
      "This is the median for a terrace 8 bedroom in yaba :  0\n",
      "This is the median for a terrace 9 bedroom in yaba :  0\n",
      "This is the median for a terrace 2 bedroom in ajah :  650000.0\n",
      "This is the median for a terrace 3 bedroom in ajah :  1500000.0\n",
      "This is the median for a terrace 4 bedroom in ajah :  2000000.0\n",
      "This is the median for a terrace 5 bedroom in ajah :  2800000.0\n",
      "This is the median for a terrace 6 bedroom in ajah :  3000000.0\n",
      "This is the median for a terrace 7 bedroom in ajah :  3000000.0\n",
      "This is the median for a terrace 8 bedroom in ajah :  0\n",
      "This is the median for a terrace 9 bedroom in ajah :  0\n",
      "This is the median for a terrace 2 bedroom in gbagada :  0\n",
      "This is the median for a terrace 3 bedroom in gbagada :  2000000.0\n",
      "This is the median for a terrace 4 bedroom in gbagada :  3000000.0\n",
      "This is the median for a terrace 5 bedroom in gbagada :  2000000.0\n",
      "This is the median for a terrace 6 bedroom in gbagada :  0\n",
      "This is the median for a terrace 7 bedroom in gbagada :  0\n",
      "This is the median for a terrace 8 bedroom in gbagada :  0\n",
      "This is the median for a terrace 9 bedroom in gbagada :  0\n",
      "This is the median for a terrace 2 bedroom in ogba :  1200000.0\n",
      "This is the median for a terrace 3 bedroom in ogba :  750000.0\n",
      "This is the median for a terrace 4 bedroom in ogba :  1800000.0\n",
      "This is the median for a terrace 5 bedroom in ogba :  0\n",
      "This is the median for a terrace 6 bedroom in ogba :  0\n",
      "This is the median for a terrace 7 bedroom in ogba :  0\n",
      "This is the median for a terrace 8 bedroom in ogba :  0\n",
      "This is the median for a terrace 9 bedroom in ogba :  0\n",
      "This is the median for a terrace 2 bedroom in iyanaipaja :  0\n",
      "This is the median for a terrace 3 bedroom in iyanaipaja :  0\n",
      "This is the median for a terrace 4 bedroom in iyanaipaja :  0\n",
      "This is the median for a terrace 5 bedroom in iyanaipaja :  0\n",
      "This is the median for a terrace 6 bedroom in iyanaipaja :  0\n",
      "This is the median for a terrace 7 bedroom in iyanaipaja :  0\n",
      "This is the median for a terrace 8 bedroom in iyanaipaja :  0\n",
      "This is the median for a terrace 9 bedroom in iyanaipaja :  0\n",
      "This is the median for a terrace 2 bedroom in lekki :  2000000.0\n",
      "This is the median for a terrace 3 bedroom in lekki :  3000000.0\n",
      "This is the median for a terrace 4 bedroom in lekki :  3500000.0\n",
      "This is the median for a terrace 5 bedroom in lekki :  4000000.0\n",
      "This is the median for a terrace 6 bedroom in lekki :  3750000.0\n",
      "This is the median for a terrace 7 bedroom in lekki :  0\n",
      "This is the median for a terrace 8 bedroom in lekki :  0\n",
      "This is the median for a terrace 9 bedroom in lekki :  0\n"
     ]
    }
   ],
   "source": [
    "#The above shows that they are.\n",
    "#Since some houses may have missing info it means some terrace houses are not called terrace houses. \n",
    "#Assumptions are made around houses which are not identified as terrace houses. \n",
    "#The median/50th percentile of houses which are terrace is identified and any house = or above the median is considered terrace.\n",
    "\n",
    "terrace_price = []\n",
    "import numpy as np\n",
    "for location in locations:\n",
    "    for i in range(2,10):\n",
    "        d = {}\n",
    "        d['location'] = location\n",
    "        d['bedspace'] = i\n",
    "        try:\n",
    "            d['terrace_price'] = np.percentile(train2['price'][(train2['location']==location)&(train2['bedrooms']==i)&(train2['terrace_flag']==1)],50)    \n",
    "        except (IndexError,TypeError) as e:\n",
    "            d['terrace_price'] = 0\n",
    "        terrace_price.append(d)\n",
    "        try:\n",
    "            print(\"This is the median for a terrace {bed} bedroom in {location} : \".format(bed = i,location = location) ,np.percentile(train2['price'][(train2['location']==location)&(train2['bedrooms']==i)&(train2['terrace_flag']==1)],50))\n",
    "        except (IndexError,TypeError) as e:\n",
    "            print(\"This is the median for a terrace {bed} bedroom in {location} : \".format(bed = i,location = location) ,0)"
   ]
  },
  {
   "cell_type": "code",
   "execution_count": 181,
   "metadata": {
    "ExecuteTime": {
     "end_time": "2020-05-01T18:04:01.770931Z",
     "start_time": "2020-05-01T18:04:01.748942Z"
    }
   },
   "outputs": [
    {
     "data": {
      "text/html": [
       "<div>\n",
       "<style scoped>\n",
       "    .dataframe tbody tr th:only-of-type {\n",
       "        vertical-align: middle;\n",
       "    }\n",
       "\n",
       "    .dataframe tbody tr th {\n",
       "        vertical-align: top;\n",
       "    }\n",
       "\n",
       "    .dataframe thead th {\n",
       "        text-align: right;\n",
       "    }\n",
       "</style>\n",
       "<table border=\"1\" class=\"dataframe\">\n",
       "  <thead>\n",
       "    <tr style=\"text-align: right;\">\n",
       "      <th></th>\n",
       "      <th>terrace_price</th>\n",
       "      <th>locationbed</th>\n",
       "    </tr>\n",
       "  </thead>\n",
       "  <tbody>\n",
       "    <tr>\n",
       "      <td>0</td>\n",
       "      <td>1100000.0</td>\n",
       "      <td>ikeja2</td>\n",
       "    </tr>\n",
       "    <tr>\n",
       "      <td>1</td>\n",
       "      <td>3350000.0</td>\n",
       "      <td>ikeja3</td>\n",
       "    </tr>\n",
       "    <tr>\n",
       "      <td>2</td>\n",
       "      <td>3500000.0</td>\n",
       "      <td>ikeja4</td>\n",
       "    </tr>\n",
       "    <tr>\n",
       "      <td>3</td>\n",
       "      <td>3750000.0</td>\n",
       "      <td>ikeja5</td>\n",
       "    </tr>\n",
       "    <tr>\n",
       "      <td>4</td>\n",
       "      <td>0.0</td>\n",
       "      <td>ikeja6</td>\n",
       "    </tr>\n",
       "  </tbody>\n",
       "</table>\n",
       "</div>"
      ],
      "text/plain": [
       "   terrace_price locationbed\n",
       "0      1100000.0      ikeja2\n",
       "1      3350000.0      ikeja3\n",
       "2      3500000.0      ikeja4\n",
       "3      3750000.0      ikeja5\n",
       "4            0.0      ikeja6"
      ]
     },
     "execution_count": 181,
     "metadata": {},
     "output_type": "execute_result"
    }
   ],
   "source": [
    "#save the output in a dataframe and in order to merge with original dataframe\n",
    "terrace_price=pd.DataFrame(terrace_price)\n",
    "terrace_price['locationbed'] = terrace_price['location'] + terrace_price['bedspace'].astype(str)\n",
    "terrace_price = terrace_price.drop([\"location\",\"bedspace\"],axis=1)\n",
    "terrace_price.head()"
   ]
  },
  {
   "cell_type": "code",
   "execution_count": 182,
   "metadata": {
    "ExecuteTime": {
     "end_time": "2020-05-01T18:04:01.961776Z",
     "start_time": "2020-05-01T18:04:01.773928Z"
    }
   },
   "outputs": [],
   "source": [
    "#merge to original dataframe to create new dataframe\n",
    "train3 = pd.merge(train3,terrace_price, on =\"locationbed\", how = \"left\")"
   ]
  },
  {
   "cell_type": "code",
   "execution_count": 183,
   "metadata": {
    "ExecuteTime": {
     "end_time": "2020-05-01T18:04:02.165631Z",
     "start_time": "2020-05-01T18:04:01.968743Z"
    }
   },
   "outputs": [],
   "source": [
    "#identify terrace houses that were not called terrace houses by assigning houses greater than median as terrace houses\n",
    "#Terrace housese are typically from 2 bedroom\n",
    "train3['terrace_flag'][(train3['bedrooms']==2)&(train3['price'] > train3['terrace_price'])] = 1\n",
    "train3['terrace_flag'][(train3['bedrooms']==3)&(train3['price'] > train3['terrace_price'])] = 1\n",
    "train3['terrace_flag'][(train3['bedrooms']==4)&(train3['price'] > train3['terrace_price'])] = 1\n",
    "train3['terrace_flag'][(train3['bedrooms']==5)&(train3['price'] > train3['terrace_price'])] = 1\n",
    "train3['terrace_flag'][(train3['bedrooms']==6)&(train3['price'] > train3['terrace_price'])] = 1\n",
    "train3['terrace_flag'][(train3['bedrooms']==7)&(train3['price'] > train3['terrace_price'])] = 1\n",
    "train3['terrace_flag'][(train3['bedrooms']==8)&(train3['price'] > train3['terrace_price'])] = 1\n",
    "train3['terrace_flag'][(train3['bedrooms']==9)&(train3['price'] > train3['terrace_price'])] = 1"
   ]
  },
  {
   "cell_type": "code",
   "execution_count": 184,
   "metadata": {
    "ExecuteTime": {
     "end_time": "2020-05-01T18:04:02.252580Z",
     "start_time": "2020-05-01T18:04:02.169626Z"
    }
   },
   "outputs": [
    {
     "data": {
      "text/html": [
       "<div>\n",
       "<style scoped>\n",
       "    .dataframe tbody tr th:only-of-type {\n",
       "        vertical-align: middle;\n",
       "    }\n",
       "\n",
       "    .dataframe tbody tr th {\n",
       "        vertical-align: top;\n",
       "    }\n",
       "\n",
       "    .dataframe thead th {\n",
       "        text-align: right;\n",
       "    }\n",
       "</style>\n",
       "<table border=\"1\" class=\"dataframe\">\n",
       "  <thead>\n",
       "    <tr style=\"text-align: right;\">\n",
       "      <th></th>\n",
       "      <th>location_rank</th>\n",
       "      <th>locationbed</th>\n",
       "    </tr>\n",
       "  </thead>\n",
       "  <tbody>\n",
       "    <tr>\n",
       "      <td>18</td>\n",
       "      <td>1</td>\n",
       "      <td>ikorodu1</td>\n",
       "    </tr>\n",
       "    <tr>\n",
       "      <td>19</td>\n",
       "      <td>2</td>\n",
       "      <td>ikorodu2</td>\n",
       "    </tr>\n",
       "    <tr>\n",
       "      <td>31</td>\n",
       "      <td>3</td>\n",
       "      <td>ogba1</td>\n",
       "    </tr>\n",
       "    <tr>\n",
       "      <td>20</td>\n",
       "      <td>4</td>\n",
       "      <td>ikorodu3</td>\n",
       "    </tr>\n",
       "    <tr>\n",
       "      <td>0</td>\n",
       "      <td>6</td>\n",
       "      <td>ajah1</td>\n",
       "    </tr>\n",
       "    <tr>\n",
       "      <td>41</td>\n",
       "      <td>6</td>\n",
       "      <td>yaba1</td>\n",
       "    </tr>\n",
       "    <tr>\n",
       "      <td>7</td>\n",
       "      <td>6</td>\n",
       "      <td>gbagada1</td>\n",
       "    </tr>\n",
       "    <tr>\n",
       "      <td>35</td>\n",
       "      <td>6</td>\n",
       "      <td>surulere1</td>\n",
       "    </tr>\n",
       "    <tr>\n",
       "      <td>21</td>\n",
       "      <td>9</td>\n",
       "      <td>ikorodu4</td>\n",
       "    </tr>\n",
       "    <tr>\n",
       "      <td>12</td>\n",
       "      <td>10</td>\n",
       "      <td>ikeja1</td>\n",
       "    </tr>\n",
       "    <tr>\n",
       "      <td>32</td>\n",
       "      <td>11</td>\n",
       "      <td>ogba2</td>\n",
       "    </tr>\n",
       "    <tr>\n",
       "      <td>33</td>\n",
       "      <td>12</td>\n",
       "      <td>ogba3</td>\n",
       "    </tr>\n",
       "    <tr>\n",
       "      <td>1</td>\n",
       "      <td>13</td>\n",
       "      <td>ajah2</td>\n",
       "    </tr>\n",
       "    <tr>\n",
       "      <td>8</td>\n",
       "      <td>15</td>\n",
       "      <td>gbagada2</td>\n",
       "    </tr>\n",
       "    <tr>\n",
       "      <td>42</td>\n",
       "      <td>15</td>\n",
       "      <td>yaba2</td>\n",
       "    </tr>\n",
       "    <tr>\n",
       "      <td>24</td>\n",
       "      <td>15</td>\n",
       "      <td>lekki1</td>\n",
       "    </tr>\n",
       "    <tr>\n",
       "      <td>36</td>\n",
       "      <td>17</td>\n",
       "      <td>surulere2</td>\n",
       "    </tr>\n",
       "    <tr>\n",
       "      <td>2</td>\n",
       "      <td>18</td>\n",
       "      <td>ajah3</td>\n",
       "    </tr>\n",
       "    <tr>\n",
       "      <td>37</td>\n",
       "      <td>19</td>\n",
       "      <td>surulere3</td>\n",
       "    </tr>\n",
       "    <tr>\n",
       "      <td>13</td>\n",
       "      <td>20</td>\n",
       "      <td>ikeja2</td>\n",
       "    </tr>\n",
       "    <tr>\n",
       "      <td>43</td>\n",
       "      <td>20</td>\n",
       "      <td>yaba3</td>\n",
       "    </tr>\n",
       "    <tr>\n",
       "      <td>45</td>\n",
       "      <td>22</td>\n",
       "      <td>yaba5</td>\n",
       "    </tr>\n",
       "    <tr>\n",
       "      <td>9</td>\n",
       "      <td>22</td>\n",
       "      <td>gbagada3</td>\n",
       "    </tr>\n",
       "    <tr>\n",
       "      <td>34</td>\n",
       "      <td>24</td>\n",
       "      <td>ogba4</td>\n",
       "    </tr>\n",
       "    <tr>\n",
       "      <td>25</td>\n",
       "      <td>26</td>\n",
       "      <td>lekki2</td>\n",
       "    </tr>\n",
       "    <tr>\n",
       "      <td>46</td>\n",
       "      <td>26</td>\n",
       "      <td>yaba6</td>\n",
       "    </tr>\n",
       "    <tr>\n",
       "      <td>3</td>\n",
       "      <td>26</td>\n",
       "      <td>ajah4</td>\n",
       "    </tr>\n",
       "    <tr>\n",
       "      <td>11</td>\n",
       "      <td>26</td>\n",
       "      <td>gbagada5</td>\n",
       "    </tr>\n",
       "    <tr>\n",
       "      <td>14</td>\n",
       "      <td>29</td>\n",
       "      <td>ikeja3</td>\n",
       "    </tr>\n",
       "    <tr>\n",
       "      <td>39</td>\n",
       "      <td>30</td>\n",
       "      <td>surulere6</td>\n",
       "    </tr>\n",
       "    <tr>\n",
       "      <td>26</td>\n",
       "      <td>32</td>\n",
       "      <td>lekki3</td>\n",
       "    </tr>\n",
       "    <tr>\n",
       "      <td>4</td>\n",
       "      <td>32</td>\n",
       "      <td>ajah5</td>\n",
       "    </tr>\n",
       "    <tr>\n",
       "      <td>38</td>\n",
       "      <td>32</td>\n",
       "      <td>surulere4</td>\n",
       "    </tr>\n",
       "    <tr>\n",
       "      <td>10</td>\n",
       "      <td>34</td>\n",
       "      <td>gbagada4</td>\n",
       "    </tr>\n",
       "    <tr>\n",
       "      <td>22</td>\n",
       "      <td>36</td>\n",
       "      <td>ikorodu9</td>\n",
       "    </tr>\n",
       "    <tr>\n",
       "      <td>6</td>\n",
       "      <td>36</td>\n",
       "      <td>ajah7</td>\n",
       "    </tr>\n",
       "    <tr>\n",
       "      <td>5</td>\n",
       "      <td>36</td>\n",
       "      <td>ajah6</td>\n",
       "    </tr>\n",
       "    <tr>\n",
       "      <td>44</td>\n",
       "      <td>36</td>\n",
       "      <td>yaba4</td>\n",
       "    </tr>\n",
       "    <tr>\n",
       "      <td>27</td>\n",
       "      <td>39</td>\n",
       "      <td>lekki4</td>\n",
       "    </tr>\n",
       "    <tr>\n",
       "      <td>15</td>\n",
       "      <td>39</td>\n",
       "      <td>ikeja4</td>\n",
       "    </tr>\n",
       "    <tr>\n",
       "      <td>16</td>\n",
       "      <td>42</td>\n",
       "      <td>ikeja5</td>\n",
       "    </tr>\n",
       "    <tr>\n",
       "      <td>29</td>\n",
       "      <td>42</td>\n",
       "      <td>lekki6</td>\n",
       "    </tr>\n",
       "    <tr>\n",
       "      <td>40</td>\n",
       "      <td>42</td>\n",
       "      <td>surulere9</td>\n",
       "    </tr>\n",
       "    <tr>\n",
       "      <td>28</td>\n",
       "      <td>42</td>\n",
       "      <td>lekki5</td>\n",
       "    </tr>\n",
       "    <tr>\n",
       "      <td>23</td>\n",
       "      <td>45</td>\n",
       "      <td>iyanaipaja3</td>\n",
       "    </tr>\n",
       "    <tr>\n",
       "      <td>17</td>\n",
       "      <td>46</td>\n",
       "      <td>ikeja8</td>\n",
       "    </tr>\n",
       "    <tr>\n",
       "      <td>30</td>\n",
       "      <td>46</td>\n",
       "      <td>lekki8</td>\n",
       "    </tr>\n",
       "  </tbody>\n",
       "</table>\n",
       "</div>"
      ],
      "text/plain": [
       "    location_rank  locationbed\n",
       "18              1     ikorodu1\n",
       "19              2     ikorodu2\n",
       "31              3        ogba1\n",
       "20              4     ikorodu3\n",
       "0               6        ajah1\n",
       "41              6        yaba1\n",
       "7               6     gbagada1\n",
       "35              6    surulere1\n",
       "21              9     ikorodu4\n",
       "12             10       ikeja1\n",
       "32             11        ogba2\n",
       "33             12        ogba3\n",
       "1              13        ajah2\n",
       "8              15     gbagada2\n",
       "42             15        yaba2\n",
       "24             15       lekki1\n",
       "36             17    surulere2\n",
       "2              18        ajah3\n",
       "37             19    surulere3\n",
       "13             20       ikeja2\n",
       "43             20        yaba3\n",
       "45             22        yaba5\n",
       "9              22     gbagada3\n",
       "34             24        ogba4\n",
       "25             26       lekki2\n",
       "46             26        yaba6\n",
       "3              26        ajah4\n",
       "11             26     gbagada5\n",
       "14             29       ikeja3\n",
       "39             30    surulere6\n",
       "26             32       lekki3\n",
       "4              32        ajah5\n",
       "38             32    surulere4\n",
       "10             34     gbagada4\n",
       "22             36     ikorodu9\n",
       "6              36        ajah7\n",
       "5              36        ajah6\n",
       "44             36        yaba4\n",
       "27             39       lekki4\n",
       "15             39       ikeja4\n",
       "16             42       ikeja5\n",
       "29             42       lekki6\n",
       "40             42    surulere9\n",
       "28             42       lekki5\n",
       "23             45  iyanaipaja3\n",
       "17             46       ikeja8\n",
       "30             46       lekki8"
      ]
     },
     "execution_count": 184,
     "metadata": {},
     "output_type": "execute_result"
    }
   ],
   "source": [
    "#Location is not giving the best results as a feature, however merging location and number of beds and ranking that \n",
    "#gives your model a better and stronger feature because the lower the rank, the lower the price.\n",
    "g = train3.groupby(['location','bedrooms'])['price'].median().reset_index().sort_values('price')\n",
    "g['location_rank']= g['price'].rank()#np.linspace(1,14,14)\n",
    "g['location_rank'] = g['location_rank'].astype(int)\n",
    "g['locationbed'] = g['location'] + g ['bedrooms'].astype(str)\n",
    "g = g.drop([\"price\",\"location\",\"bedrooms\"],axis=1)\n",
    "g\n",
    "#.columns\n",
    "\n",
    "# g.to_csv('locationrank.csv', index=False)"
   ]
  },
  {
   "cell_type": "code",
   "execution_count": 185,
   "metadata": {
    "ExecuteTime": {
     "end_time": "2020-05-01T18:04:02.365574Z",
     "start_time": "2020-05-01T18:04:02.258576Z"
    }
   },
   "outputs": [],
   "source": [
    "#merge to dataframe\n",
    "train3 = pd.merge(train3,g, on =\"locationbed\", how = \"left\")"
   ]
  },
  {
   "cell_type": "code",
   "execution_count": 186,
   "metadata": {
    "ExecuteTime": {
     "end_time": "2020-05-01T18:04:02.497991Z",
     "start_time": "2020-05-01T18:04:02.369513Z"
    }
   },
   "outputs": [
    {
     "data": {
      "text/plain": [
       "(2955, 17)"
      ]
     },
     "execution_count": 186,
     "metadata": {},
     "output_type": "execute_result"
    }
   ],
   "source": [
    "train3.shape"
   ]
  },
  {
   "cell_type": "code",
   "execution_count": 187,
   "metadata": {
    "ExecuteTime": {
     "end_time": "2020-05-01T18:04:02.647898Z",
     "start_time": "2020-05-01T18:04:02.511978Z"
    }
   },
   "outputs": [
    {
     "data": {
      "text/plain": [
       "Index(['bedrooms', 'bathrooms', 'toilets', 'description', 'location',\n",
       "       'spec_location', 'price', 'estate_flag', 'terrace_flag', 'new_flag',\n",
       "       'serviced_flag', 'security_flag', 'locationbed', 'estate_price',\n",
       "       'serviced_price', 'terrace_price', 'location_rank'],\n",
       "      dtype='object')"
      ]
     },
     "execution_count": 187,
     "metadata": {},
     "output_type": "execute_result"
    }
   ],
   "source": [
    "train3.columns"
   ]
  },
  {
   "cell_type": "code",
   "execution_count": 188,
   "metadata": {
    "ExecuteTime": {
     "end_time": "2020-05-01T18:04:03.638994Z",
     "start_time": "2020-05-01T18:04:02.653893Z"
    }
   },
   "outputs": [
    {
     "name": "stdout",
     "output_type": "stream",
     "text": [
      "This is the median for 1 bedroom in ikeja :  1000000.0\n",
      "This is the median for 2 bedroom in ikeja :  2600000.0000000014\n",
      "This is the median for 3 bedroom in ikeja :  3500000.0\n",
      "This is the median for 4 bedroom in ikeja :  5000000.0\n",
      "This is the median for 5 bedroom in ikeja :  4400000.0\n",
      "This is the median for 6 bedroom in ikeja :  0\n",
      "This is the median for 7 bedroom in ikeja :  0\n",
      "This is the median for 8 bedroom in ikeja :  0\n",
      "This is the median for 9 bedroom in ikeja :  0\n",
      "This is the median for 1 bedroom in ikorodu :  200000.0\n",
      "This is the median for 2 bedroom in ikorodu :  440000.0\n",
      "This is the median for 3 bedroom in ikorodu :  600000.0\n",
      "This is the median for 4 bedroom in ikorodu :  600000.0\n",
      "This is the median for 5 bedroom in ikorodu :  0\n",
      "This is the median for 6 bedroom in ikorodu :  0\n",
      "This is the median for 7 bedroom in ikorodu :  0\n",
      "This is the median for 8 bedroom in ikorodu :  0\n",
      "This is the median for 9 bedroom in ikorodu :  3000000.0\n",
      "This is the median for 1 bedroom in surulere :  600000.0\n",
      "This is the median for 2 bedroom in surulere :  1000000.0\n",
      "This is the median for 3 bedroom in surulere :  1500000.0\n",
      "This is the median for 4 bedroom in surulere :  2500000.0\n",
      "This is the median for 5 bedroom in surulere :  0\n",
      "This is the median for 6 bedroom in surulere :  2560000.0\n",
      "This is the median for 7 bedroom in surulere :  0\n",
      "This is the median for 8 bedroom in surulere :  0\n",
      "This is the median for 9 bedroom in surulere :  4000000.0\n",
      "This is the median for 1 bedroom in yaba :  600000.0\n",
      "This is the median for 2 bedroom in yaba :  1120000.0000000005\n",
      "This is the median for 3 bedroom in yaba :  1800000.0\n",
      "This is the median for 4 bedroom in yaba :  3600000.0\n",
      "This is the median for 5 bedroom in yaba :  1500000.0\n",
      "This is the median for 6 bedroom in yaba :  2000000.0\n",
      "This is the median for 7 bedroom in yaba :  0\n",
      "This is the median for 8 bedroom in yaba :  0\n",
      "This is the median for 9 bedroom in yaba :  0\n",
      "This is the median for 1 bedroom in ajah :  550000.0\n",
      "This is the median for 2 bedroom in ajah :  1000000.0\n",
      "This is the median for 3 bedroom in ajah :  1500000.0\n",
      "This is the median for 4 bedroom in ajah :  2500000.0\n",
      "This is the median for 5 bedroom in ajah :  2360000.0\n",
      "This is the median for 6 bedroom in ajah :  3000000.0\n",
      "This is the median for 7 bedroom in ajah :  3000000.0\n",
      "This is the median for 8 bedroom in ajah :  0\n",
      "This is the median for 9 bedroom in ajah :  0\n",
      "This is the median for 1 bedroom in gbagada :  500000.0\n",
      "This is the median for 2 bedroom in gbagada :  1000000.0\n",
      "This is the median for 3 bedroom in gbagada :  1500000.0\n",
      "This is the median for 4 bedroom in gbagada :  2300000.0\n",
      "This is the median for 5 bedroom in gbagada :  0\n",
      "This is the median for 6 bedroom in gbagada :  0\n",
      "This is the median for 7 bedroom in gbagada :  0\n",
      "This is the median for 8 bedroom in gbagada :  0\n",
      "This is the median for 9 bedroom in gbagada :  0\n",
      "This is the median for 1 bedroom in ogba :  476000.00000000006\n",
      "This is the median for 2 bedroom in ogba :  800000.0\n",
      "This is the median for 3 bedroom in ogba :  1000000.0\n",
      "This is the median for 4 bedroom in ogba :  1740000.0\n",
      "This is the median for 5 bedroom in ogba :  0\n",
      "This is the median for 6 bedroom in ogba :  0\n",
      "This is the median for 7 bedroom in ogba :  0\n",
      "This is the median for 8 bedroom in ogba :  0\n",
      "This is the median for 9 bedroom in ogba :  0\n",
      "This is the median for 1 bedroom in iyanaipaja :  0\n",
      "This is the median for 2 bedroom in iyanaipaja :  0\n",
      "This is the median for 3 bedroom in iyanaipaja :  4500000.0\n",
      "This is the median for 4 bedroom in iyanaipaja :  0\n",
      "This is the median for 5 bedroom in iyanaipaja :  0\n",
      "This is the median for 6 bedroom in iyanaipaja :  0\n",
      "This is the median for 7 bedroom in iyanaipaja :  0\n",
      "This is the median for 8 bedroom in iyanaipaja :  0\n",
      "This is the median for 9 bedroom in iyanaipaja :  0\n",
      "This is the median for 1 bedroom in lekki :  1500000.0\n",
      "This is the median for 2 bedroom in lekki :  2500000.0\n",
      "This is the median for 3 bedroom in lekki :  3500000.0\n",
      "This is the median for 4 bedroom in lekki :  4000000.0\n",
      "This is the median for 5 bedroom in lekki :  5000000.0\n",
      "This is the median for 6 bedroom in lekki :  4600000.0\n",
      "This is the median for 7 bedroom in lekki :  0\n",
      "This is the median for 8 bedroom in lekki :  5000000.0\n",
      "This is the median for 9 bedroom in lekki :  0\n"
     ]
    }
   ],
   "source": [
    "#make similar assumptions for new/luxurious/executive houses which were not classified as that\n",
    "new_price = []\n",
    "import numpy as np\n",
    "for location in locations:\n",
    "    for i in range(1,10):\n",
    "        d = {}\n",
    "        d['location'] = location\n",
    "        d['bedspace'] = i\n",
    "        try:\n",
    "            d['estate_price'] = np.percentile(train2['price'][(train2['location']==location)&(train2['bedrooms']==i)&(train2['estate_flag']==0)],50)\n",
    "            d['new_price'] = np.percentile(train2['price'][(train2['location']==location)&(train2['bedrooms']==i)&(train2['estate_flag']==0)],80)\n",
    "        except (IndexError,TypeError) as e:\n",
    "            d['new_price'] = 0\n",
    "            d['estate_price'] = 0\n",
    "        new_price.append(d)\n",
    "        try:\n",
    "            print(\"This is the median for {bed} bedroom in {location} : \".format(bed = i,location = location) ,np.percentile(train2['price'][(train2['location']==location)&(train2['bedrooms']==i)&(train2['estate_flag']==0)],80))\n",
    "        except (IndexError,TypeError) as e:\n",
    "            print(\"This is the median for {bed} bedroom in {location} : \".format(bed = i,location = location) ,0)"
   ]
  },
  {
   "cell_type": "code",
   "execution_count": 189,
   "metadata": {
    "ExecuteTime": {
     "end_time": "2020-05-01T18:04:03.664977Z",
     "start_time": "2020-05-01T18:04:03.641992Z"
    }
   },
   "outputs": [
    {
     "data": {
      "text/html": [
       "<div>\n",
       "<style scoped>\n",
       "    .dataframe tbody tr th:only-of-type {\n",
       "        vertical-align: middle;\n",
       "    }\n",
       "\n",
       "    .dataframe tbody tr th {\n",
       "        vertical-align: top;\n",
       "    }\n",
       "\n",
       "    .dataframe thead th {\n",
       "        text-align: right;\n",
       "    }\n",
       "</style>\n",
       "<table border=\"1\" class=\"dataframe\">\n",
       "  <thead>\n",
       "    <tr style=\"text-align: right;\">\n",
       "      <th></th>\n",
       "      <th>new_price</th>\n",
       "      <th>locationbed</th>\n",
       "    </tr>\n",
       "  </thead>\n",
       "  <tbody>\n",
       "    <tr>\n",
       "      <td>0</td>\n",
       "      <td>1000000.0</td>\n",
       "      <td>ikeja1</td>\n",
       "    </tr>\n",
       "    <tr>\n",
       "      <td>1</td>\n",
       "      <td>2600000.0</td>\n",
       "      <td>ikeja2</td>\n",
       "    </tr>\n",
       "    <tr>\n",
       "      <td>2</td>\n",
       "      <td>3500000.0</td>\n",
       "      <td>ikeja3</td>\n",
       "    </tr>\n",
       "    <tr>\n",
       "      <td>3</td>\n",
       "      <td>5000000.0</td>\n",
       "      <td>ikeja4</td>\n",
       "    </tr>\n",
       "    <tr>\n",
       "      <td>4</td>\n",
       "      <td>4400000.0</td>\n",
       "      <td>ikeja5</td>\n",
       "    </tr>\n",
       "    <tr>\n",
       "      <td>...</td>\n",
       "      <td>...</td>\n",
       "      <td>...</td>\n",
       "    </tr>\n",
       "    <tr>\n",
       "      <td>76</td>\n",
       "      <td>5000000.0</td>\n",
       "      <td>lekki5</td>\n",
       "    </tr>\n",
       "    <tr>\n",
       "      <td>77</td>\n",
       "      <td>4600000.0</td>\n",
       "      <td>lekki6</td>\n",
       "    </tr>\n",
       "    <tr>\n",
       "      <td>78</td>\n",
       "      <td>0.0</td>\n",
       "      <td>lekki7</td>\n",
       "    </tr>\n",
       "    <tr>\n",
       "      <td>79</td>\n",
       "      <td>5000000.0</td>\n",
       "      <td>lekki8</td>\n",
       "    </tr>\n",
       "    <tr>\n",
       "      <td>80</td>\n",
       "      <td>0.0</td>\n",
       "      <td>lekki9</td>\n",
       "    </tr>\n",
       "  </tbody>\n",
       "</table>\n",
       "<p>81 rows × 2 columns</p>\n",
       "</div>"
      ],
      "text/plain": [
       "    new_price locationbed\n",
       "0   1000000.0      ikeja1\n",
       "1   2600000.0      ikeja2\n",
       "2   3500000.0      ikeja3\n",
       "3   5000000.0      ikeja4\n",
       "4   4400000.0      ikeja5\n",
       "..        ...         ...\n",
       "76  5000000.0      lekki5\n",
       "77  4600000.0      lekki6\n",
       "78        0.0      lekki7\n",
       "79  5000000.0      lekki8\n",
       "80        0.0      lekki9\n",
       "\n",
       "[81 rows x 2 columns]"
      ]
     },
     "execution_count": 189,
     "metadata": {},
     "output_type": "execute_result"
    }
   ],
   "source": [
    "new_price = pd.DataFrame(new_price)\n",
    "new_price['locationbed'] = new_price['location'] + new_price['bedspace'].astype(str)\n",
    "new_price = new_price.drop([\"estate_price\",\"location\",\"bedspace\"],axis=1)\n",
    "new_price"
   ]
  },
  {
   "cell_type": "code",
   "execution_count": 190,
   "metadata": {
    "ExecuteTime": {
     "end_time": "2020-05-01T18:04:03.828245Z",
     "start_time": "2020-05-01T18:04:03.667976Z"
    }
   },
   "outputs": [],
   "source": [
    "#train2['locationbed']  = train2 ['location'] + train2 ['bedrooms'].astype(str)\n",
    "train3 = pd.merge(train3,new_price, on =\"locationbed\", how = \"left\")"
   ]
  },
  {
   "cell_type": "code",
   "execution_count": 191,
   "metadata": {
    "ExecuteTime": {
     "end_time": "2020-05-01T18:04:03.948175Z",
     "start_time": "2020-05-01T18:04:03.831185Z"
    }
   },
   "outputs": [
    {
     "data": {
      "text/plain": [
       "(2955, 18)"
      ]
     },
     "execution_count": 191,
     "metadata": {},
     "output_type": "execute_result"
    }
   ],
   "source": [
    "train3.shape"
   ]
  },
  {
   "cell_type": "code",
   "execution_count": 192,
   "metadata": {
    "ExecuteTime": {
     "end_time": "2020-05-01T18:04:04.157440Z",
     "start_time": "2020-05-01T18:04:03.951153Z"
    }
   },
   "outputs": [],
   "source": [
    "#assign houses to new/luxurious/executive based on price\n",
    "train3['new_flag'][(train3['bedrooms']==1)&(train3['price'] > train3['new_price'])] = 1\n",
    "train3['new_flag'][(train3['bedrooms']==2)&(train3['price'] > train3['new_price'])] = 1\n",
    "train3['new_flag'][(train3['bedrooms']==3)&(train3['price'] > train3['new_price'])] = 1\n",
    "train3['new_flag'][(train3['bedrooms']==4)&(train3['price'] > train3['new_price'])] = 1\n",
    "train3['new_flag'][(train3['bedrooms']==5)&(train3['price'] > train3['new_price'])] = 1\n",
    "train3['new_flag'][(train3['bedrooms']==6)&(train3['price'] > train3['new_price'])] = 1\n",
    "train3['new_flag'][(train3['bedrooms']==7)&(train3['price'] > train3['new_price'])] = 1\n",
    "train3['new_flag'][(train3['bedrooms']==8)&(train3['price'] > train3['new_price'])] = 1\n",
    "train3['new_flag'][(train3['bedrooms']==9)&(train3['price'] > train3['new_price'])] = 1"
   ]
  },
  {
   "cell_type": "code",
   "execution_count": 193,
   "metadata": {
    "ExecuteTime": {
     "end_time": "2020-05-01T18:04:04.612941Z",
     "start_time": "2020-05-01T18:04:04.160417Z"
    }
   },
   "outputs": [
    {
     "data": {
      "text/plain": [
       "<matplotlib.axes._subplots.AxesSubplot at 0x211fe206e48>"
      ]
     },
     "execution_count": 193,
     "metadata": {},
     "output_type": "execute_result"
    },
    {
     "data": {
      "image/png": "[encoded data removed]",
      "text/plain": [
       "<Figure size 432x288 with 1 Axes>"
      ]
     },
     "metadata": {
      "needs_background": "light"
     },
     "output_type": "display_data"
    }
   ],
   "source": [
    "#Conduct additional inspoection for each location and type of house\n",
    "import matplotlib.pyplot as plt\n",
    "train2['price'][(train2['location']==\"gbagada\")&(train2['bedrooms']==1)].plot(\"hist\")"
   ]
  },
  {
   "cell_type": "code",
   "execution_count": 194,
   "metadata": {
    "ExecuteTime": {
     "end_time": "2020-05-01T18:04:05.030685Z",
     "start_time": "2020-05-01T18:04:04.619917Z"
    }
   },
   "outputs": [
    {
     "data": {
      "text/plain": [
       "<matplotlib.axes._subplots.AxesSubplot at 0x211fd6b0f28>"
      ]
     },
     "execution_count": 194,
     "metadata": {},
     "output_type": "execute_result"
    },
    {
     "data": {
      "image/png": "[encoded data removed]",
      "text/plain": [
       "<Figure size 432x288 with 1 Axes>"
      ]
     },
     "metadata": {
      "needs_background": "light"
     },
     "output_type": "display_data"
    }
   ],
   "source": [
    "import matplotlib.pyplot as plt\n",
    "train2['price'][(train2['location']==\"yaba\")&(train2['bedrooms']==1)].plot(\"hist\")"
   ]
  },
  {
   "cell_type": "code",
   "execution_count": 195,
   "metadata": {
    "ExecuteTime": {
     "end_time": "2020-05-01T18:04:05.610351Z",
     "start_time": "2020-05-01T18:04:05.036680Z"
    }
   },
   "outputs": [
    {
     "data": {
      "text/plain": [
       "<matplotlib.axes._subplots.AxesSubplot at 0x211fddf0e10>"
      ]
     },
     "execution_count": 195,
     "metadata": {},
     "output_type": "execute_result"
    },
    {
     "data": {
      "image/png": "[encoded data removed]",
      "text/plain": [
       "<Figure size 432x288 with 1 Axes>"
      ]
     },
     "metadata": {
      "needs_background": "light"
     },
     "output_type": "display_data"
    }
   ],
   "source": [
    "import matplotlib.pyplot as plt\n",
    "train2['price'][(train2['location']==\"surulere\")&(train2['bedrooms']==2)].plot(\"hist\")"
   ]
  },
  {
   "cell_type": "code",
   "execution_count": 196,
   "metadata": {
    "ExecuteTime": {
     "end_time": "2020-05-01T18:04:06.162055Z",
     "start_time": "2020-05-01T18:04:05.616349Z"
    }
   },
   "outputs": [
    {
     "data": {
      "text/plain": [
       "<matplotlib.axes._subplots.AxesSubplot at 0x211fde79550>"
      ]
     },
     "execution_count": 196,
     "metadata": {},
     "output_type": "execute_result"
    },
    {
     "data": {
      "image/png": "[encoded data removed]",
      "text/plain": [
       "<Figure size 432x288 with 1 Axes>"
      ]
     },
     "metadata": {
      "needs_background": "light"
     },
     "output_type": "display_data"
    }
   ],
   "source": [
    "import matplotlib.pyplot as plt\n",
    "train2['price'][(train2['location']==\"gbagada\")&(train2['bedrooms']==2)].plot(\"hist\")"
   ]
  },
  {
   "cell_type": "code",
   "execution_count": 197,
   "metadata": {
    "ExecuteTime": {
     "end_time": "2020-05-01T18:04:06.475858Z",
     "start_time": "2020-05-01T18:04:06.166040Z"
    }
   },
   "outputs": [
    {
     "data": {
      "text/plain": [
       "<matplotlib.axes._subplots.AxesSubplot at 0x211fdf5ad30>"
      ]
     },
     "execution_count": 197,
     "metadata": {},
     "output_type": "execute_result"
    },
    {
     "data": {
      "image/png": "[encoded data removed]",
      "text/plain": [
       "<Figure size 432x288 with 1 Axes>"
      ]
     },
     "metadata": {
      "needs_background": "light"
     },
     "output_type": "display_data"
    }
   ],
   "source": [
    "import matplotlib.pyplot as plt\n",
    "train2['price'][(train2['location']==\"yaba\")&(train2['bedrooms']==2)].plot(\"hist\")"
   ]
  },
  {
   "cell_type": "code",
   "execution_count": 198,
   "metadata": {
    "ExecuteTime": {
     "end_time": "2020-05-01T18:04:06.810667Z",
     "start_time": "2020-05-01T18:04:06.480854Z"
    }
   },
   "outputs": [
    {
     "data": {
      "text/plain": [
       "<matplotlib.axes._subplots.AxesSubplot at 0x211fdfce630>"
      ]
     },
     "execution_count": 198,
     "metadata": {},
     "output_type": "execute_result"
    },
    {
     "data": {
      "image/png": "[encoded data removed]",
      "text/plain": [
       "<Figure size 432x288 with 1 Axes>"
      ]
     },
     "metadata": {
      "needs_background": "light"
     },
     "output_type": "display_data"
    }
   ],
   "source": [
    "import matplotlib.pyplot as plt\n",
    "train2['price'][(train2['location']==\"surulere\")&(train2['bedrooms']==3)].plot(\"hist\")"
   ]
  },
  {
   "cell_type": "code",
   "execution_count": 199,
   "metadata": {
    "ExecuteTime": {
     "end_time": "2020-05-01T18:04:07.154492Z",
     "start_time": "2020-05-01T18:04:06.814663Z"
    }
   },
   "outputs": [
    {
     "data": {
      "text/plain": [
       "<matplotlib.axes._subplots.AxesSubplot at 0x211fe020b70>"
      ]
     },
     "execution_count": 199,
     "metadata": {},
     "output_type": "execute_result"
    },
    {
     "data": {
      "image/png": "[encoded data removed]",
      "text/plain": [
       "<Figure size 432x288 with 1 Axes>"
      ]
     },
     "metadata": {
      "needs_background": "light"
     },
     "output_type": "display_data"
    }
   ],
   "source": [
    "import matplotlib.pyplot as plt\n",
    "train2['price'][(train2['location']==\"gbagada\")&(train2['bedrooms']==3)].plot(\"hist\")"
   ]
  },
  {
   "cell_type": "code",
   "execution_count": 200,
   "metadata": {
    "ExecuteTime": {
     "end_time": "2020-05-01T18:04:07.501272Z",
     "start_time": "2020-05-01T18:04:07.157468Z"
    }
   },
   "outputs": [
    {
     "data": {
      "text/plain": [
       "<matplotlib.axes._subplots.AxesSubplot at 0x211fe0b0da0>"
      ]
     },
     "execution_count": 200,
     "metadata": {},
     "output_type": "execute_result"
    },
    {
     "data": {
      "image/png": "[encoded data removed]",
      "text/plain": [
       "<Figure size 432x288 with 1 Axes>"
      ]
     },
     "metadata": {
      "needs_background": "light"
     },
     "output_type": "display_data"
    }
   ],
   "source": [
    "import matplotlib.pyplot as plt\n",
    "train2['price'][(train2['location']==\"yaba\")&(train2['bedrooms']==3)].plot(\"hist\")"
   ]
  },
  {
   "cell_type": "code",
   "execution_count": 201,
   "metadata": {
    "ExecuteTime": {
     "end_time": "2020-05-01T18:04:07.656184Z",
     "start_time": "2020-05-01T18:04:07.504270Z"
    }
   },
   "outputs": [],
   "source": [
    "#The distribution has a wide variation. It is possible type of area also determines price. We can make a feature for thsi\n",
    "#create a feature that determines type of area a house is in based on price. 1 being lowest and 4 being highest type of area\n",
    "train3['exec_flag']=1\n",
    "\n",
    "for i in range(0,len(locations)):\n",
    "    \n",
    "    train3['exec_flag'][(train3['bedrooms']==3)&(train3['location']==locations[i]) & (train3['price']>= np.percentile(train3['price'],35))]= 2\n",
    "    train3['exec_flag'][(train3['bedrooms']==3)&(train3['location']==locations[i]) & (train3['price']>= np.percentile(train3['price'],65))]= 3\n",
    "    train3['exec_flag'][(train3['bedrooms']==3)&(train3['location']==locations[i]) & (train3['price']>= np.percentile(train3['price'],80))]= 4"
   ]
  },
  {
   "cell_type": "code",
   "execution_count": 202,
   "metadata": {
    "ExecuteTime": {
     "end_time": "2020-05-01T18:04:07.825087Z",
     "start_time": "2020-05-01T18:04:07.659181Z"
    }
   },
   "outputs": [],
   "source": [
    "for i in range(0,len(locations)):\n",
    "    train3['exec_flag'][(train3['bedrooms']==2)&(train3['location']==locations[i]) & (train3['price']>= np.percentile(train3['price'],35))]= 2\n",
    "    train3['exec_flag'][(train3['bedrooms']==2)&(train3['location']==locations[i]) & (train3['price']>= np.percentile(train3['price'],65))]= 3\n",
    "    train3['exec_flag'][(train3['bedrooms']==2)&(train3['location']==locations[i]) & (train3['price']>= np.percentile(train3['price'],80))]= 4"
   ]
  },
  {
   "cell_type": "code",
   "execution_count": 203,
   "metadata": {
    "ExecuteTime": {
     "end_time": "2020-05-01T18:04:08.028969Z",
     "start_time": "2020-05-01T18:04:07.827085Z"
    }
   },
   "outputs": [],
   "source": [
    "for i in range(0,len(locations)):\n",
    "    train3['exec_flag'][(train3['bedrooms']==1)&(train3['location']==locations[i]) & (train3['price']>= np.percentile(train3['price'],35))]= 2\n",
    "    train3['exec_flag'][(train3['bedrooms']==1)&(train3['location']==locations[i]) & (train3['price']>= np.percentile(train3['price'],65))]= 3\n",
    "    train3['exec_flag'][(train3['bedrooms']==1)&(train3['location']==locations[i]) & (train3['price']>= np.percentile(train3['price'],80))]= 4"
   ]
  },
  {
   "cell_type": "code",
   "execution_count": 204,
   "metadata": {
    "ExecuteTime": {
     "end_time": "2020-05-01T18:04:08.225931Z",
     "start_time": "2020-05-01T18:04:08.038966Z"
    }
   },
   "outputs": [],
   "source": [
    "for i in range(0,len(locations)):\n",
    "    train3['exec_flag'][(train3['bedrooms']==4)&(train3['location']==locations[i]) & (train3['price']>= np.percentile(train3['price'],35))]= 2\n",
    "    train3['exec_flag'][(train3['bedrooms']==4)&(train3['location']==locations[i]) & (train3['price']>= np.percentile(train3['price'],65))]= 3\n",
    "    train3['exec_flag'][(train3['bedrooms']==4)&(train3['location']==locations[i]) & (train3['price']>= np.percentile(train3['price'],80))]= 4"
   ]
  },
  {
   "cell_type": "code",
   "execution_count": 205,
   "metadata": {
    "ExecuteTime": {
     "end_time": "2020-05-01T18:04:08.358836Z",
     "start_time": "2020-05-01T18:04:08.228855Z"
    }
   },
   "outputs": [],
   "source": [
    "for i in range(0,len(locations)):\n",
    "    train3['exec_flag'][(train3['bedrooms']==5)&(train3['location']==locations[i]) & (train3['price']>= np.percentile(train3['price'],35))]= 2\n",
    "    train3['exec_flag'][(train3['bedrooms']==5)&(train3['location']==locations[i]) & (train3['price']>= np.percentile(train3['price'],65))]= 3\n",
    "    train3['exec_flag'][(train3['bedrooms']==5)&(train3['location']==locations[i]) & (train3['price']>= np.percentile(train3['price'],80))]= 4"
   ]
  },
  {
   "cell_type": "code",
   "execution_count": 206,
   "metadata": {
    "ExecuteTime": {
     "end_time": "2020-05-01T18:04:08.383766Z",
     "start_time": "2020-05-01T18:04:08.362779Z"
    }
   },
   "outputs": [],
   "source": [
    "#72%\n",
    "X = train3[['bedrooms','bathrooms', 'toilets', 'estate_flag','location_rank', 'terrace_flag', 'new_flag','exec_flag' ,'serviced_flag']]\n",
    "y = train3['price']"
   ]
  },
  {
   "cell_type": "code",
   "execution_count": 207,
   "metadata": {
    "ExecuteTime": {
     "end_time": "2020-05-01T18:04:08.565814Z",
     "start_time": "2020-05-01T18:04:08.388764Z"
    }
   },
   "outputs": [],
   "source": [
    "from sklearn.model_selection import train_test_split\n",
    "from sklearn.model_selection import KFold\n",
    "\n",
    "x_train, x_cv, y_train, y_cv = train_test_split(X,y, test_size =0.2,random_state = 2)"
   ]
  },
  {
   "cell_type": "code",
   "execution_count": 208,
   "metadata": {
    "ExecuteTime": {
     "end_time": "2020-05-01T18:04:08.689210Z",
     "start_time": "2020-05-01T18:04:08.574754Z"
    }
   },
   "outputs": [],
   "source": [
    "from sklearn.metrics import accuracy_score\n",
    "from sklearn.metrics import mean_squared_error\n",
    "from sklearn.metrics import roc_curve,auc\n",
    "from sklearn.metrics import r2_score\n",
    "from math import sqrt"
   ]
  },
  {
   "cell_type": "code",
   "execution_count": 209,
   "metadata": {
    "ExecuteTime": {
     "end_time": "2020-05-01T18:04:15.521048Z",
     "start_time": "2020-05-01T18:04:08.696204Z"
    }
   },
   "outputs": [
    {
     "data": {
      "text/plain": [
       "RandomForestRegressor(bootstrap=True, criterion='mse', max_depth=11,\n",
       "                      max_features='auto', max_leaf_nodes=None,\n",
       "                      min_impurity_decrease=0.0, min_impurity_split=None,\n",
       "                      min_samples_leaf=1, min_samples_split=2,\n",
       "                      min_weight_fraction_leaf=0.0, n_estimators=1400,\n",
       "                      n_jobs=None, oob_score=False, random_state=1, verbose=0,\n",
       "                      warm_start=False)"
      ]
     },
     "execution_count": 209,
     "metadata": {},
     "output_type": "execute_result"
    }
   ],
   "source": [
    "from sklearn.ensemble import RandomForestRegressor\n",
    "model1 = RandomForestRegressor(random_state=1, max_depth=11,n_estimators= 1400)\n",
    "model1.fit(x_train,y_train)"
   ]
  },
  {
   "cell_type": "code",
   "execution_count": 210,
   "metadata": {
    "ExecuteTime": {
     "end_time": "2020-05-01T18:04:15.805883Z",
     "start_time": "2020-05-01T18:04:15.524045Z"
    },
    "scrolled": true
   },
   "outputs": [
    {
     "name": "stdout",
     "output_type": "stream",
     "text": [
      "mean_squared_error 304213.38929106924\n"
     ]
    }
   ],
   "source": [
    "pred_cv = model1.predict(x_cv)\n",
    "score = sqrt(mean_squared_error(y_cv,pred_cv))\n",
    "print('mean_squared_error',score)"
   ]
  },
  {
   "cell_type": "code",
   "execution_count": null,
   "metadata": {},
   "outputs": [],
   "source": []
  },
  {
   "cell_type": "code",
   "execution_count": null,
   "metadata": {},
   "outputs": [],
   "source": []
  },
  {
   "cell_type": "code",
   "execution_count": null,
   "metadata": {},
   "outputs": [],
   "source": []
  },
  {
   "cell_type": "code",
   "execution_count": 211,
   "metadata": {
    "ExecuteTime": {
     "end_time": "2020-05-01T18:04:15.818877Z",
     "start_time": "2020-05-01T18:04:15.808882Z"
    }
   },
   "outputs": [],
   "source": [
    "#adjust outliers > than 2.5m\n",
    "train3['price'][train3['price']>2500000] = 2600000"
   ]
  },
  {
   "cell_type": "code",
   "execution_count": 212,
   "metadata": {
    "ExecuteTime": {
     "end_time": "2020-05-01T18:04:15.955800Z",
     "start_time": "2020-05-01T18:04:15.821875Z"
    }
   },
   "outputs": [],
   "source": [
    "#Adjust 1 bed room outliers\n",
    "train3['price'][(train3['bedrooms']==1) & (train3['price']>750000)]= 750000"
   ]
  },
  {
   "cell_type": "code",
   "execution_count": 213,
   "metadata": {
    "ExecuteTime": {
     "end_time": "2020-05-01T18:04:16.129933Z",
     "start_time": "2020-05-01T18:04:15.959796Z"
    }
   },
   "outputs": [],
   "source": [
    "#Adjust 4 bed room outliers\n",
    "train3['price'][(train3['bedrooms']==4) & (train3['price']<2000000)]= 2000000"
   ]
  },
  {
   "cell_type": "code",
   "execution_count": 214,
   "metadata": {
    "ExecuteTime": {
     "end_time": "2020-05-01T18:04:16.952737Z",
     "start_time": "2020-05-01T18:04:16.132913Z"
    }
   },
   "outputs": [],
   "source": [
    "#Adjust various outliers especially low prices across various areas and types of houses\n",
    "for location in ['gbagada','surulere','yaba','lekki','ikeja','iyanaipaja','ogba','ajah','ikorodu']:\n",
    "    train3['price'][(train3['location']==location)&(train3['bedrooms']==1)&(train3['price'] < train3['estate_price']- 50000)] = train3['estate_price']- 50000\n",
    "    train3['price'][(train3['location']==location)&(train3['bedrooms']==2)&(train3['price'] < train3['estate_price']- 50000)] = train3['estate_price']- 50000\n",
    "    train3['price'][(train3['location']==location)&(train3['bedrooms']==3)&(train3['price'] < train3['estate_price']- 200000)] = train3['estate_price']- 200000\n",
    "    #this guy\n",
    "    train3['price'][(train3['location']==location)&(train3['bedrooms']==4)&(train3['price'] < train3['estate_price']- 200000)] = train3['estate_price']- 200000\n",
    "    train3['price'][(train3['location']==location)&(train3['bedrooms']==5)&(train3['price'] < train3['estate_price']- 200000)] = train3['estate_price']- 200000\n",
    "    #train3['price'][(train3['bedrooms']==1)&(train3['price'] > train3['serviced_price'])] = 1\n",
    "    #train3['price'][(train3['bedrooms']==2)&(train3['price'] > train3['serviced_price'])] = 1\n",
    "    #train3['price'][(train3['bedrooms']==3)&(train3['price'] > train3['serviced_price'])] = 1\n",
    "    #train3['price'][train3['price'] > 1800000] = 1"
   ]
  },
  {
   "cell_type": "code",
   "execution_count": 215,
   "metadata": {
    "ExecuteTime": {
     "end_time": "2020-05-01T18:04:17.101643Z",
     "start_time": "2020-05-01T18:04:16.956721Z"
    }
   },
   "outputs": [],
   "source": [
    "#Adjust two bedroom high prices\n",
    "for location in [\"gbagada\",\"surulere\",\"yaba\",'lekki','ikeja','iyanaipaja','ogba','ajah','ikorodu']:\n",
    "    train3['price'][(train3['location']==location)&(train3['bedrooms']==2)&(train3['price'] > train3['serviced_price']+ 100000)] = train3['estate_price']+ 100000"
   ]
  },
  {
   "cell_type": "code",
   "execution_count": 216,
   "metadata": {
    "ExecuteTime": {
     "end_time": "2020-05-01T18:04:17.170602Z",
     "start_time": "2020-05-01T18:04:17.109633Z"
    }
   },
   "outputs": [
    {
     "data": {
      "text/html": [
       "<div>\n",
       "<style scoped>\n",
       "    .dataframe tbody tr th:only-of-type {\n",
       "        vertical-align: middle;\n",
       "    }\n",
       "\n",
       "    .dataframe tbody tr th {\n",
       "        vertical-align: top;\n",
       "    }\n",
       "\n",
       "    .dataframe thead th {\n",
       "        text-align: right;\n",
       "    }\n",
       "</style>\n",
       "<table border=\"1\" class=\"dataframe\">\n",
       "  <thead>\n",
       "    <tr style=\"text-align: right;\">\n",
       "      <th></th>\n",
       "      <th>bedrooms</th>\n",
       "      <th>bathrooms</th>\n",
       "      <th>toilets</th>\n",
       "      <th>description</th>\n",
       "      <th>location</th>\n",
       "      <th>spec_location</th>\n",
       "      <th>price</th>\n",
       "      <th>estate_flag</th>\n",
       "      <th>terrace_flag</th>\n",
       "      <th>new_flag</th>\n",
       "      <th>serviced_flag</th>\n",
       "      <th>security_flag</th>\n",
       "      <th>locationbed</th>\n",
       "      <th>estate_price</th>\n",
       "      <th>serviced_price</th>\n",
       "      <th>terrace_price</th>\n",
       "      <th>location_rank</th>\n",
       "      <th>new_price</th>\n",
       "      <th>exec_flag</th>\n",
       "    </tr>\n",
       "  </thead>\n",
       "  <tbody>\n",
       "    <tr>\n",
       "      <td>0</td>\n",
       "      <td>4</td>\n",
       "      <td>4</td>\n",
       "      <td>5</td>\n",
       "      <td>4 Bedroom terrace duplex for Lease. 3 years re...</td>\n",
       "      <td>ikeja</td>\n",
       "      <td>off isaac john street ikeja gra ikeja lagos</td>\n",
       "      <td>3300000</td>\n",
       "      <td>1</td>\n",
       "      <td>1</td>\n",
       "      <td>1</td>\n",
       "      <td>1</td>\n",
       "      <td>1</td>\n",
       "      <td>ikeja4</td>\n",
       "      <td>3500000.0</td>\n",
       "      <td>5000000.0</td>\n",
       "      <td>3500000.0</td>\n",
       "      <td>39</td>\n",
       "      <td>5000000.0</td>\n",
       "      <td>4</td>\n",
       "    </tr>\n",
       "    <tr>\n",
       "      <td>1</td>\n",
       "      <td>3</td>\n",
       "      <td>3</td>\n",
       "      <td>4</td>\n",
       "      <td>This property is located within the heart of o...</td>\n",
       "      <td>ikeja</td>\n",
       "      <td>bamishele estate off allen opebi ikeja lagos</td>\n",
       "      <td>2600000</td>\n",
       "      <td>1</td>\n",
       "      <td>1</td>\n",
       "      <td>1</td>\n",
       "      <td>1</td>\n",
       "      <td>1</td>\n",
       "      <td>ikeja3</td>\n",
       "      <td>2400000.0</td>\n",
       "      <td>3500000.0</td>\n",
       "      <td>3350000.0</td>\n",
       "      <td>29</td>\n",
       "      <td>3500000.0</td>\n",
       "      <td>4</td>\n",
       "    </tr>\n",
       "    <tr>\n",
       "      <td>2</td>\n",
       "      <td>3</td>\n",
       "      <td>3</td>\n",
       "      <td>4</td>\n",
       "      <td>3 bedroom Shared Apartment Flat / Apartment fo...</td>\n",
       "      <td>ikeja</td>\n",
       "      <td>off allen avenue allen avenue ikeja lagos</td>\n",
       "      <td>2600000</td>\n",
       "      <td>1</td>\n",
       "      <td>1</td>\n",
       "      <td>1</td>\n",
       "      <td>1</td>\n",
       "      <td>1</td>\n",
       "      <td>ikeja3</td>\n",
       "      <td>2400000.0</td>\n",
       "      <td>3500000.0</td>\n",
       "      <td>3350000.0</td>\n",
       "      <td>29</td>\n",
       "      <td>3500000.0</td>\n",
       "      <td>4</td>\n",
       "    </tr>\n",
       "    <tr>\n",
       "      <td>3</td>\n",
       "      <td>5</td>\n",
       "      <td>6</td>\n",
       "      <td>6</td>\n",
       "      <td>A newly renovated 5bedroomfully detached duple...</td>\n",
       "      <td>ikeja</td>\n",
       "      <td>off ogunlani estate, allen, ikeja. allen avenu...</td>\n",
       "      <td>3800000</td>\n",
       "      <td>1</td>\n",
       "      <td>1</td>\n",
       "      <td>1</td>\n",
       "      <td>0</td>\n",
       "      <td>1</td>\n",
       "      <td>ikeja5</td>\n",
       "      <td>4000000.0</td>\n",
       "      <td>4400000.0</td>\n",
       "      <td>3750000.0</td>\n",
       "      <td>42</td>\n",
       "      <td>4400000.0</td>\n",
       "      <td>3</td>\n",
       "    </tr>\n",
       "    <tr>\n",
       "      <td>4</td>\n",
       "      <td>1</td>\n",
       "      <td>1</td>\n",
       "      <td>1</td>\n",
       "      <td>clean pop all round tiles big compound ... Old...</td>\n",
       "      <td>ikeja</td>\n",
       "      <td>ikeja gra ikeja lagos</td>\n",
       "      <td>750000</td>\n",
       "      <td>1</td>\n",
       "      <td>0</td>\n",
       "      <td>0</td>\n",
       "      <td>0</td>\n",
       "      <td>1</td>\n",
       "      <td>ikeja1</td>\n",
       "      <td>575000.0</td>\n",
       "      <td>1000000.0</td>\n",
       "      <td>NaN</td>\n",
       "      <td>10</td>\n",
       "      <td>1000000.0</td>\n",
       "      <td>2</td>\n",
       "    </tr>\n",
       "  </tbody>\n",
       "</table>\n",
       "</div>"
      ],
      "text/plain": [
       "   bedrooms  bathrooms  toilets  \\\n",
       "0         4          4        5   \n",
       "1         3          3        4   \n",
       "2         3          3        4   \n",
       "3         5          6        6   \n",
       "4         1          1        1   \n",
       "\n",
       "                                         description location  \\\n",
       "0  4 Bedroom terrace duplex for Lease. 3 years re...    ikeja   \n",
       "1  This property is located within the heart of o...    ikeja   \n",
       "2  3 bedroom Shared Apartment Flat / Apartment fo...    ikeja   \n",
       "3  A newly renovated 5bedroomfully detached duple...    ikeja   \n",
       "4  clean pop all round tiles big compound ... Old...    ikeja   \n",
       "\n",
       "                                       spec_location    price  estate_flag  \\\n",
       "0        off isaac john street ikeja gra ikeja lagos  3300000            1   \n",
       "1       bamishele estate off allen opebi ikeja lagos  2600000            1   \n",
       "2          off allen avenue allen avenue ikeja lagos  2600000            1   \n",
       "3  off ogunlani estate, allen, ikeja. allen avenu...  3800000            1   \n",
       "4                              ikeja gra ikeja lagos   750000            1   \n",
       "\n",
       "   terrace_flag  new_flag  serviced_flag  security_flag locationbed  \\\n",
       "0             1         1              1              1      ikeja4   \n",
       "1             1         1              1              1      ikeja3   \n",
       "2             1         1              1              1      ikeja3   \n",
       "3             1         1              0              1      ikeja5   \n",
       "4             0         0              0              1      ikeja1   \n",
       "\n",
       "   estate_price  serviced_price  terrace_price  location_rank  new_price  \\\n",
       "0     3500000.0       5000000.0      3500000.0             39  5000000.0   \n",
       "1     2400000.0       3500000.0      3350000.0             29  3500000.0   \n",
       "2     2400000.0       3500000.0      3350000.0             29  3500000.0   \n",
       "3     4000000.0       4400000.0      3750000.0             42  4400000.0   \n",
       "4      575000.0       1000000.0            NaN             10  1000000.0   \n",
       "\n",
       "   exec_flag  \n",
       "0          4  \n",
       "1          4  \n",
       "2          4  \n",
       "3          3  \n",
       "4          2  "
      ]
     },
     "execution_count": 216,
     "metadata": {},
     "output_type": "execute_result"
    }
   ],
   "source": [
    "train3.head()"
   ]
  },
  {
   "cell_type": "code",
   "execution_count": null,
   "metadata": {},
   "outputs": [],
   "source": []
  },
  {
   "cell_type": "code",
   "execution_count": 217,
   "metadata": {
    "ExecuteTime": {
     "end_time": "2020-05-01T18:04:17.282536Z",
     "start_time": "2020-05-01T18:04:17.176596Z"
    }
   },
   "outputs": [],
   "source": [
    "#modelling\n",
    "X = train3[['bedrooms','bathrooms', 'toilets','estate_flag','location_rank', 'terrace_flag', 'new_flag','exec_flag' ,'serviced_flag']]\n",
    "y = train3['price']"
   ]
  },
  {
   "cell_type": "code",
   "execution_count": 218,
   "metadata": {
    "ExecuteTime": {
     "end_time": "2020-05-01T18:04:17.426456Z",
     "start_time": "2020-05-01T18:04:17.288534Z"
    }
   },
   "outputs": [
    {
     "data": {
      "text/plain": [
       "((2364, 9), (2364,), (591, 9), (591,))"
      ]
     },
     "execution_count": 218,
     "metadata": {},
     "output_type": "execute_result"
    }
   ],
   "source": [
    "#splitting to test and train set..\n",
    "from sklearn.model_selection import train_test_split\n",
    "X_train, X_test, y_train, y_test = train_test_split(X, y, test_size=0.2)\n",
    "\n",
    "X_train.shape, y_train.shape, X_test.shape, y_test.shape"
   ]
  },
  {
   "cell_type": "code",
   "execution_count": 219,
   "metadata": {
    "ExecuteTime": {
     "end_time": "2020-05-01T18:04:23.840790Z",
     "start_time": "2020-05-01T18:04:17.431450Z"
    }
   },
   "outputs": [
    {
     "data": {
      "text/plain": [
       "RandomForestRegressor(bootstrap=True, criterion='mse', max_depth=11,\n",
       "                      max_features='auto', max_leaf_nodes=None,\n",
       "                      min_impurity_decrease=0.0, min_impurity_split=None,\n",
       "                      min_samples_leaf=1, min_samples_split=2,\n",
       "                      min_weight_fraction_leaf=0.0, n_estimators=1400,\n",
       "                      n_jobs=None, oob_score=False, random_state=1, verbose=0,\n",
       "                      warm_start=False)"
      ]
     },
     "execution_count": 219,
     "metadata": {},
     "output_type": "execute_result"
    }
   ],
   "source": [
    "from sklearn.ensemble import RandomForestRegressor\n",
    "model1 = RandomForestRegressor(random_state=1, max_depth=11,n_estimators= 1400)\n",
    "model1.fit(X_train,y_train)"
   ]
  },
  {
   "cell_type": "code",
   "execution_count": 220,
   "metadata": {
    "ExecuteTime": {
     "end_time": "2020-05-01T18:04:24.162606Z",
     "start_time": "2020-05-01T18:04:23.844787Z"
    },
    "scrolled": true
   },
   "outputs": [
    {
     "name": "stdout",
     "output_type": "stream",
     "text": [
      "mean_squared_error 67380.7723843586\n"
     ]
    }
   ],
   "source": [
    "pred_cv = model1.predict(X_test)\n",
    "score = sqrt(mean_squared_error(y_test,pred_cv))\n",
    "print('mean_squared_error',score)"
   ]
  },
  {
   "cell_type": "code",
   "execution_count": null,
   "metadata": {},
   "outputs": [],
   "source": []
  },
  {
   "cell_type": "code",
   "execution_count": null,
   "metadata": {},
   "outputs": [],
   "source": []
  },
  {
   "cell_type": "code",
   "execution_count": null,
   "metadata": {},
   "outputs": [],
   "source": []
  },
  {
   "cell_type": "code",
   "execution_count": 221,
   "metadata": {
    "ExecuteTime": {
     "end_time": "2020-05-01T18:04:58.775650Z",
     "start_time": "2020-05-01T18:04:58.240170Z"
    },
    "deletable": false,
    "editable": false,
    "run_control": {
     "frozen": true
    }
   },
   "outputs": [],
   "source": [
    "#Saving the model\n",
    "\n",
    "import pickle\n",
    "\n",
    "filename = \"67k_model.pkl\"\n",
    "with open(filename, 'wb') as file:\n",
    "    pickle.dump(model1, file)"
   ]
  },
  {
   "cell_type": "code",
   "execution_count": 162,
   "metadata": {
    "ExecuteTime": {
     "end_time": "2020-05-01T17:50:23.179971Z",
     "start_time": "2020-05-01T17:50:20.424220Z"
    },
    "deletable": false,
    "editable": false,
    "run_control": {
     "frozen": true
    }
   },
   "outputs": [],
   "source": [
    "from sklearn.externals import joblib\n",
    "joblib.dump(model1, '85k_model.pkl')\n",
    "model = joblib.load('85k_model.pkl')"
   ]
  },
  {
   "cell_type": "code",
   "execution_count": 163,
   "metadata": {
    "ExecuteTime": {
     "end_time": "2020-05-01T17:50:24.476218Z",
     "start_time": "2020-05-01T17:50:24.348232Z"
    },
    "deletable": false,
    "editable": false,
    "run_control": {
     "frozen": true
    }
   },
   "outputs": [],
   "source": [
    "train3.to_csv(\"clean_data.csv\",index = False)"
   ]
  },
  {
   "cell_type": "code",
   "execution_count": 164,
   "metadata": {
    "ExecuteTime": {
     "end_time": "2020-05-01T17:50:25.029146Z",
     "start_time": "2020-05-01T17:50:25.020171Z"
    },
    "deletable": false,
    "editable": false,
    "run_control": {
     "frozen": true
    }
   },
   "outputs": [
    {
     "data": {
      "text/plain": [
       "9"
      ]
     },
     "execution_count": 164,
     "metadata": {},
     "output_type": "execute_result"
    }
   ],
   "source": [
    "train3.toilets.nunique()"
   ]
  },
  {
   "cell_type": "code",
   "execution_count": null,
   "metadata": {
    "deletable": false,
    "editable": false,
    "run_control": {
     "frozen": true
    }
   },
   "outputs": [],
   "source": []
  }
 ],
 "metadata": {
  "kernelspec": {
   "display_name": "Python 3",
   "language": "python",
   "name": "python3"
  },
  "language_info": {
   "codemirror_mode": {
    "name": "ipython",
    "version": 3
   },
   "file_extension": ".py",
   "mimetype": "text/x-python",
   "name": "python",
   "nbconvert_exporter": "python",
   "pygments_lexer": "ipython3",
   "version": "3.7.0"
  },
  "varInspector": {
   "cols": {
    "lenName": 16,
    "lenType": 16,
    "lenVar": 40
   },
   "kernels_config": {
    "python": {
     "delete_cmd_postfix": "",
     "delete_cmd_prefix": "del ",
     "library": "var_list.py",
     "varRefreshCmd": "print(var_dic_list())"
    },
    "r": {
     "delete_cmd_postfix": ") ",
     "delete_cmd_prefix": "rm(",
     "library": "var_list.r",
     "varRefreshCmd": "cat(var_dic_list()) "
    }
   },
   "types_to_exclude": [
    "module",
    "function",
    "builtin_function_or_method",
    "instance",
    "_Feature"
   ],
   "window_display": false
  }
 },
 "nbformat": 4,
 "nbformat_minor": 1
}
