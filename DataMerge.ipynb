{
 "cells": [
  {
   "cell_type": "code",
   "execution_count": 1,
   "metadata": {
    "ExecuteTime": {
     "end_time": "2020-05-01T16:29:12.781735Z",
     "start_time": "2020-05-01T16:27:47.525437Z"
    }
   },
   "outputs": [],
   "source": [
    "import pandas as pd\n",
    "import numpy as np\n",
    "import matplotlib.pyplot as plt\n",
    "import seaborn as sns\n",
    "%matplotlib inline\n",
    "\n",
    "from math import sqrt\n",
    "\n",
    "ikeja = pd.read_csv('ikeja.csv')\n",
    "ikorodu = pd.read_csv('ikorodu.csv')\n",
    "surulere = pd.read_csv('surulere.csv')\n",
    "yaba = pd.read_csv('yaba.csv')\n",
    "ajah = pd.read_csv('ajah.csv')\n",
    "gbagada = pd.read_csv('gbagada.csv')\n",
    "ogba = pd.read_csv('ogba.csv')\n",
    "iyanaipaja = pd.read_csv('iyanaipaja.csv')\n",
    "lekki = pd.read_csv('lekki.csv')"
   ]
  },
  {
   "cell_type": "code",
   "execution_count": 2,
   "metadata": {
    "ExecuteTime": {
     "end_time": "2020-05-01T16:29:13.378057Z",
     "start_time": "2020-05-01T16:29:12.788669Z"
    }
   },
   "outputs": [
    {
     "name": "stdout",
     "output_type": "stream",
     "text": [
      "data shape (4936, 11)\n"
     ]
    }
   ],
   "source": [
    "ikeja['source'] = 'ikeja'\n",
    "ikorodu['source'] = 'ikorodu'\n",
    "surulere['source'] = 'surulere'\n",
    "yaba['source'] = 'yaba'\n",
    "ajah['source'] = 'ajah'\n",
    "gbagada['source'] = 'gbagada'\n",
    "ogba['source'] = 'ogba'\n",
    "iyanaipaja['source'] = 'iyanaipaja'\n",
    "lekki['source'] = 'lekki'\n",
    "\n",
    "data = pd.concat([ikeja, ikorodu, surulere, yaba, ajah, gbagada, ogba, iyanaipaja, lekki], ignore_index=True, sort=False)\n",
    "\n",
    "print('data shape', data.shape)"
   ]
  },
  {
   "cell_type": "code",
   "execution_count": null,
   "metadata": {},
   "outputs": [],
   "source": []
  },
  {
   "cell_type": "code",
   "execution_count": 3,
   "metadata": {
    "ExecuteTime": {
     "end_time": "2020-05-01T16:29:13.712541Z",
     "start_time": "2020-05-01T16:29:13.383056Z"
    }
   },
   "outputs": [
    {
     "data": {
      "text/html": [
       "<div>\n",
       "<style scoped>\n",
       "    .dataframe tbody tr th:only-of-type {\n",
       "        vertical-align: middle;\n",
       "    }\n",
       "\n",
       "    .dataframe tbody tr th {\n",
       "        vertical-align: top;\n",
       "    }\n",
       "\n",
       "    .dataframe thead th {\n",
       "        text-align: right;\n",
       "    }\n",
       "</style>\n",
       "<table border=\"1\" class=\"dataframe\">\n",
       "  <thead>\n",
       "    <tr style=\"text-align: right;\">\n",
       "      <th></th>\n",
       "      <th>Unnamed: 0</th>\n",
       "      <th>page</th>\n",
       "      <th>location</th>\n",
       "      <th>location_s</th>\n",
       "      <th>features</th>\n",
       "      <th>bed</th>\n",
       "      <th>bath</th>\n",
       "      <th>toilet</th>\n",
       "      <th>description</th>\n",
       "      <th>price</th>\n",
       "      <th>source</th>\n",
       "    </tr>\n",
       "  </thead>\n",
       "  <tbody>\n",
       "    <tr>\n",
       "      <td>0</td>\n",
       "      <td>0</td>\n",
       "      <td>1</td>\n",
       "      <td>oregun ikeja lagos</td>\n",
       "      <td>oregun ikeja lagos</td>\n",
       "      <td>1 bed 10 bath 5 toilet</td>\n",
       "      <td>1.0</td>\n",
       "      <td>0</td>\n",
       "      <td>5</td>\n",
       "      <td>For Lease modern Warehouse on a property of ap...</td>\n",
       "      <td>7e+07</td>\n",
       "      <td>ikeja</td>\n",
       "    </tr>\n",
       "    <tr>\n",
       "      <td>1</td>\n",
       "      <td>1</td>\n",
       "      <td>1</td>\n",
       "      <td>opebi ikeja lagos</td>\n",
       "      <td>opebi ikeja lagos</td>\n",
       "      <td>bed  bath 2 toilet</td>\n",
       "      <td>NaN</td>\n",
       "      <td></td>\n",
       "      <td>2</td>\n",
       "      <td>For Lease warehouse capacity of 4,000 sqft wit...</td>\n",
       "      <td>5.2e+06</td>\n",
       "      <td>ikeja</td>\n",
       "    </tr>\n",
       "    <tr>\n",
       "      <td>2</td>\n",
       "      <td>2</td>\n",
       "      <td>1</td>\n",
       "      <td>off isaac john street ikeja gra ikeja lagos</td>\n",
       "      <td>off isaac john street ikeja gra ikeja lagos</td>\n",
       "      <td>4 bed 4 bath 5 toilet</td>\n",
       "      <td>4.0</td>\n",
       "      <td>4</td>\n",
       "      <td>5</td>\n",
       "      <td>4 Bedroom terrace duplex for Lease. 3 years re...</td>\n",
       "      <td>5e+06</td>\n",
       "      <td>ikeja</td>\n",
       "    </tr>\n",
       "    <tr>\n",
       "      <td>3</td>\n",
       "      <td>3</td>\n",
       "      <td>1</td>\n",
       "      <td>bamishele estate off allen opebi ikeja lagos</td>\n",
       "      <td>bamishele estate off allen opebi ikeja lagos</td>\n",
       "      <td>3 bed 3 bath 4 toilet</td>\n",
       "      <td>3.0</td>\n",
       "      <td>3</td>\n",
       "      <td>4</td>\n",
       "      <td>This property is located within the heart of o...</td>\n",
       "      <td>4e+06</td>\n",
       "      <td>ikeja</td>\n",
       "    </tr>\n",
       "    <tr>\n",
       "      <td>4</td>\n",
       "      <td>4</td>\n",
       "      <td>1</td>\n",
       "      <td>off allen avenue allen avenue ikeja lagos</td>\n",
       "      <td>off allen avenue allen avenue ikeja lagos</td>\n",
       "      <td>3 bed 3 bath 4 toilet</td>\n",
       "      <td>3.0</td>\n",
       "      <td>3</td>\n",
       "      <td>4</td>\n",
       "      <td>3 bedroom Shared Apartment Flat / Apartment fo...</td>\n",
       "      <td>4e+06</td>\n",
       "      <td>ikeja</td>\n",
       "    </tr>\n",
       "  </tbody>\n",
       "</table>\n",
       "</div>"
      ],
      "text/plain": [
       "   Unnamed: 0  page                                      location  \\\n",
       "0           0     1                            oregun ikeja lagos   \n",
       "1           1     1                             opebi ikeja lagos   \n",
       "2           2     1   off isaac john street ikeja gra ikeja lagos   \n",
       "3           3     1  bamishele estate off allen opebi ikeja lagos   \n",
       "4           4     1     off allen avenue allen avenue ikeja lagos   \n",
       "\n",
       "                                     location_s                features  bed  \\\n",
       "0                            oregun ikeja lagos  1 bed 10 bath 5 toilet  1.0   \n",
       "1                             opebi ikeja lagos      bed  bath 2 toilet  NaN   \n",
       "2   off isaac john street ikeja gra ikeja lagos   4 bed 4 bath 5 toilet  4.0   \n",
       "3  bamishele estate off allen opebi ikeja lagos   3 bed 3 bath 4 toilet  3.0   \n",
       "4     off allen avenue allen avenue ikeja lagos   3 bed 3 bath 4 toilet  3.0   \n",
       "\n",
       "  bath toilet                                        description    price  \\\n",
       "0    0      5  For Lease modern Warehouse on a property of ap...    7e+07   \n",
       "1           2  For Lease warehouse capacity of 4,000 sqft wit...  5.2e+06   \n",
       "2    4      5  4 Bedroom terrace duplex for Lease. 3 years re...    5e+06   \n",
       "3    3      4  This property is located within the heart of o...    4e+06   \n",
       "4    3      4  3 bedroom Shared Apartment Flat / Apartment fo...    4e+06   \n",
       "\n",
       "  source  \n",
       "0  ikeja  \n",
       "1  ikeja  \n",
       "2  ikeja  \n",
       "3  ikeja  \n",
       "4  ikeja  "
      ]
     },
     "execution_count": 3,
     "metadata": {},
     "output_type": "execute_result"
    }
   ],
   "source": [
    "data.head()"
   ]
  },
  {
   "cell_type": "code",
   "execution_count": 4,
   "metadata": {
    "ExecuteTime": {
     "end_time": "2020-05-01T16:29:13.778789Z",
     "start_time": "2020-05-01T16:29:13.715518Z"
    }
   },
   "outputs": [],
   "source": [
    "data.drop(['Unnamed: 0', 'location_s', 'page', 'features'], axis=1, inplace=True)"
   ]
  },
  {
   "cell_type": "code",
   "execution_count": 5,
   "metadata": {
    "ExecuteTime": {
     "end_time": "2020-05-01T16:29:13.970156Z",
     "start_time": "2020-05-01T16:29:13.785734Z"
    },
    "scrolled": false
   },
   "outputs": [
    {
     "data": {
      "text/html": [
       "<div>\n",
       "<style scoped>\n",
       "    .dataframe tbody tr th:only-of-type {\n",
       "        vertical-align: middle;\n",
       "    }\n",
       "\n",
       "    .dataframe tbody tr th {\n",
       "        vertical-align: top;\n",
       "    }\n",
       "\n",
       "    .dataframe thead th {\n",
       "        text-align: right;\n",
       "    }\n",
       "</style>\n",
       "<table border=\"1\" class=\"dataframe\">\n",
       "  <thead>\n",
       "    <tr style=\"text-align: right;\">\n",
       "      <th></th>\n",
       "      <th>location</th>\n",
       "      <th>bed</th>\n",
       "      <th>bath</th>\n",
       "      <th>toilet</th>\n",
       "      <th>description</th>\n",
       "      <th>price</th>\n",
       "      <th>source</th>\n",
       "    </tr>\n",
       "  </thead>\n",
       "  <tbody>\n",
       "    <tr>\n",
       "      <td>0</td>\n",
       "      <td>oregun ikeja lagos</td>\n",
       "      <td>1.0</td>\n",
       "      <td>0</td>\n",
       "      <td>5</td>\n",
       "      <td>For Lease modern Warehouse on a property of ap...</td>\n",
       "      <td>7e+07</td>\n",
       "      <td>ikeja</td>\n",
       "    </tr>\n",
       "    <tr>\n",
       "      <td>1</td>\n",
       "      <td>opebi ikeja lagos</td>\n",
       "      <td>NaN</td>\n",
       "      <td></td>\n",
       "      <td>2</td>\n",
       "      <td>For Lease warehouse capacity of 4,000 sqft wit...</td>\n",
       "      <td>5.2e+06</td>\n",
       "      <td>ikeja</td>\n",
       "    </tr>\n",
       "    <tr>\n",
       "      <td>2</td>\n",
       "      <td>off isaac john street ikeja gra ikeja lagos</td>\n",
       "      <td>4.0</td>\n",
       "      <td>4</td>\n",
       "      <td>5</td>\n",
       "      <td>4 Bedroom terrace duplex for Lease. 3 years re...</td>\n",
       "      <td>5e+06</td>\n",
       "      <td>ikeja</td>\n",
       "    </tr>\n",
       "    <tr>\n",
       "      <td>3</td>\n",
       "      <td>bamishele estate off allen opebi ikeja lagos</td>\n",
       "      <td>3.0</td>\n",
       "      <td>3</td>\n",
       "      <td>4</td>\n",
       "      <td>This property is located within the heart of o...</td>\n",
       "      <td>4e+06</td>\n",
       "      <td>ikeja</td>\n",
       "    </tr>\n",
       "    <tr>\n",
       "      <td>4</td>\n",
       "      <td>off allen avenue allen avenue ikeja lagos</td>\n",
       "      <td>3.0</td>\n",
       "      <td>3</td>\n",
       "      <td>4</td>\n",
       "      <td>3 bedroom Shared Apartment Flat / Apartment fo...</td>\n",
       "      <td>4e+06</td>\n",
       "      <td>ikeja</td>\n",
       "    </tr>\n",
       "  </tbody>\n",
       "</table>\n",
       "</div>"
      ],
      "text/plain": [
       "                                       location  bed bath toilet  \\\n",
       "0                            oregun ikeja lagos  1.0    0      5   \n",
       "1                             opebi ikeja lagos  NaN           2   \n",
       "2   off isaac john street ikeja gra ikeja lagos  4.0    4      5   \n",
       "3  bamishele estate off allen opebi ikeja lagos  3.0    3      4   \n",
       "4     off allen avenue allen avenue ikeja lagos  3.0    3      4   \n",
       "\n",
       "                                         description    price source  \n",
       "0  For Lease modern Warehouse on a property of ap...    7e+07  ikeja  \n",
       "1  For Lease warehouse capacity of 4,000 sqft wit...  5.2e+06  ikeja  \n",
       "2  4 Bedroom terrace duplex for Lease. 3 years re...    5e+06  ikeja  \n",
       "3  This property is located within the heart of o...    4e+06  ikeja  \n",
       "4  3 bedroom Shared Apartment Flat / Apartment fo...    4e+06  ikeja  "
      ]
     },
     "execution_count": 5,
     "metadata": {},
     "output_type": "execute_result"
    }
   ],
   "source": [
    "data.head()"
   ]
  },
  {
   "cell_type": "code",
   "execution_count": 6,
   "metadata": {
    "ExecuteTime": {
     "end_time": "2020-05-01T16:29:14.193101Z",
     "start_time": "2020-05-01T16:29:13.975152Z"
    }
   },
   "outputs": [
    {
     "data": {
      "text/plain": [
       "(4936, 7)"
      ]
     },
     "execution_count": 6,
     "metadata": {},
     "output_type": "execute_result"
    }
   ],
   "source": [
    "data.shape"
   ]
  },
  {
   "cell_type": "code",
   "execution_count": 7,
   "metadata": {
    "ExecuteTime": {
     "end_time": "2020-05-01T16:29:14.504245Z",
     "start_time": "2020-05-01T16:29:14.197101Z"
    }
   },
   "outputs": [
    {
     "data": {
      "text/plain": [
       "location       224\n",
       "bed            693\n",
       "bath           224\n",
       "toilet         224\n",
       "description    224\n",
       "price          224\n",
       "source           0\n",
       "dtype: int64"
      ]
     },
     "execution_count": 7,
     "metadata": {},
     "output_type": "execute_result"
    }
   ],
   "source": [
    "data.isnull().sum()"
   ]
  },
  {
   "cell_type": "code",
   "execution_count": 8,
   "metadata": {
    "ExecuteTime": {
     "end_time": "2020-05-01T16:29:14.659900Z",
     "start_time": "2020-05-01T16:29:14.509242Z"
    }
   },
   "outputs": [],
   "source": [
    "data = data.dropna()"
   ]
  },
  {
   "cell_type": "code",
   "execution_count": 9,
   "metadata": {
    "ExecuteTime": {
     "end_time": "2020-05-01T16:29:14.791233Z",
     "start_time": "2020-05-01T16:29:14.661858Z"
    }
   },
   "outputs": [
    {
     "data": {
      "text/plain": [
       "(4243, 7)"
      ]
     },
     "execution_count": 9,
     "metadata": {},
     "output_type": "execute_result"
    }
   ],
   "source": [
    "data.shape"
   ]
  },
  {
   "cell_type": "code",
   "execution_count": 10,
   "metadata": {
    "ExecuteTime": {
     "end_time": "2020-05-01T16:29:14.959249Z",
     "start_time": "2020-05-01T16:29:14.794211Z"
    },
    "scrolled": true
   },
   "outputs": [
    {
     "data": {
      "text/html": [
       "<div>\n",
       "<style scoped>\n",
       "    .dataframe tbody tr th:only-of-type {\n",
       "        vertical-align: middle;\n",
       "    }\n",
       "\n",
       "    .dataframe tbody tr th {\n",
       "        vertical-align: top;\n",
       "    }\n",
       "\n",
       "    .dataframe thead th {\n",
       "        text-align: right;\n",
       "    }\n",
       "</style>\n",
       "<table border=\"1\" class=\"dataframe\">\n",
       "  <thead>\n",
       "    <tr style=\"text-align: right;\">\n",
       "      <th></th>\n",
       "      <th>location</th>\n",
       "      <th>bed</th>\n",
       "      <th>bath</th>\n",
       "      <th>toilet</th>\n",
       "      <th>description</th>\n",
       "      <th>price</th>\n",
       "      <th>source</th>\n",
       "    </tr>\n",
       "  </thead>\n",
       "  <tbody>\n",
       "    <tr>\n",
       "      <td>0</td>\n",
       "      <td>oregun ikeja lagos</td>\n",
       "      <td>1.0</td>\n",
       "      <td>0</td>\n",
       "      <td>5</td>\n",
       "      <td>For Lease modern Warehouse on a property of ap...</td>\n",
       "      <td>7e+07</td>\n",
       "      <td>ikeja</td>\n",
       "    </tr>\n",
       "    <tr>\n",
       "      <td>2</td>\n",
       "      <td>off isaac john street ikeja gra ikeja lagos</td>\n",
       "      <td>4.0</td>\n",
       "      <td>4</td>\n",
       "      <td>5</td>\n",
       "      <td>4 Bedroom terrace duplex for Lease. 3 years re...</td>\n",
       "      <td>5e+06</td>\n",
       "      <td>ikeja</td>\n",
       "    </tr>\n",
       "    <tr>\n",
       "      <td>3</td>\n",
       "      <td>bamishele estate off allen opebi ikeja lagos</td>\n",
       "      <td>3.0</td>\n",
       "      <td>3</td>\n",
       "      <td>4</td>\n",
       "      <td>This property is located within the heart of o...</td>\n",
       "      <td>4e+06</td>\n",
       "      <td>ikeja</td>\n",
       "    </tr>\n",
       "    <tr>\n",
       "      <td>4</td>\n",
       "      <td>off allen avenue allen avenue ikeja lagos</td>\n",
       "      <td>3.0</td>\n",
       "      <td>3</td>\n",
       "      <td>4</td>\n",
       "      <td>3 bedroom Shared Apartment Flat / Apartment fo...</td>\n",
       "      <td>4e+06</td>\n",
       "      <td>ikeja</td>\n",
       "    </tr>\n",
       "    <tr>\n",
       "      <td>7</td>\n",
       "      <td>off ogunlani estate, allen, ikeja. allen avenu...</td>\n",
       "      <td>5.0</td>\n",
       "      <td>6</td>\n",
       "      <td>6</td>\n",
       "      <td>A newly renovated 5bedroomfully detached duple...</td>\n",
       "      <td>2.8e+06</td>\n",
       "      <td>ikeja</td>\n",
       "    </tr>\n",
       "  </tbody>\n",
       "</table>\n",
       "</div>"
      ],
      "text/plain": [
       "                                            location  bed bath toilet  \\\n",
       "0                                 oregun ikeja lagos  1.0    0      5   \n",
       "2        off isaac john street ikeja gra ikeja lagos  4.0    4      5   \n",
       "3       bamishele estate off allen opebi ikeja lagos  3.0    3      4   \n",
       "4          off allen avenue allen avenue ikeja lagos  3.0    3      4   \n",
       "7  off ogunlani estate, allen, ikeja. allen avenu...  5.0    6      6   \n",
       "\n",
       "                                         description    price source  \n",
       "0  For Lease modern Warehouse on a property of ap...    7e+07  ikeja  \n",
       "2  4 Bedroom terrace duplex for Lease. 3 years re...    5e+06  ikeja  \n",
       "3  This property is located within the heart of o...    4e+06  ikeja  \n",
       "4  3 bedroom Shared Apartment Flat / Apartment fo...    4e+06  ikeja  \n",
       "7  A newly renovated 5bedroomfully detached duple...  2.8e+06  ikeja  "
      ]
     },
     "execution_count": 10,
     "metadata": {},
     "output_type": "execute_result"
    }
   ],
   "source": [
    "data.head()"
   ]
  },
  {
   "cell_type": "code",
   "execution_count": null,
   "metadata": {},
   "outputs": [],
   "source": []
  },
  {
   "cell_type": "code",
   "execution_count": 11,
   "metadata": {
    "ExecuteTime": {
     "end_time": "2020-05-01T16:29:15.414773Z",
     "start_time": "2020-05-01T16:29:14.962231Z"
    }
   },
   "outputs": [],
   "source": [
    "data.to_csv('data.csv', index=False)"
   ]
  },
  {
   "cell_type": "code",
   "execution_count": null,
   "metadata": {},
   "outputs": [],
   "source": []
  }
 ],
 "metadata": {
  "kernelspec": {
   "display_name": "Python 3",
   "language": "python",
   "name": "python3"
  },
  "language_info": {
   "codemirror_mode": {
    "name": "ipython",
    "version": 3
   },
   "file_extension": ".py",
   "mimetype": "text/x-python",
   "name": "python",
   "nbconvert_exporter": "python",
   "pygments_lexer": "ipython3",
   "version": "3.7.0"
  },
  "varInspector": {
   "cols": {
    "lenName": 16,
    "lenType": 16,
    "lenVar": 40
   },
   "kernels_config": {
    "python": {
     "delete_cmd_postfix": "",
     "delete_cmd_prefix": "del ",
     "library": "var_list.py",
     "varRefreshCmd": "print(var_dic_list())"
    },
    "r": {
     "delete_cmd_postfix": ") ",
     "delete_cmd_prefix": "rm(",
     "library": "var_list.r",
     "varRefreshCmd": "cat(var_dic_list()) "
    }
   },
   "types_to_exclude": [
    "module",
    "function",
    "builtin_function_or_method",
    "instance",
    "_Feature"
   ],
   "window_display": false
  }
 },
 "nbformat": 4,
 "nbformat_minor": 2
}
